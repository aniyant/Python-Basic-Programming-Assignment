{
 "cells": [
  {
   "cell_type": "code",
   "execution_count": null,
   "metadata": {},
   "outputs": [],
   "source": [
    "1.) Write a python program to find LCM ?"
   ]
  },
  {
   "cell_type": "code",
   "execution_count": 5,
   "metadata": {},
   "outputs": [
    {
     "name": "stdin",
     "output_type": "stream",
     "text": [
      "Enter first number =  85\n",
      "Enter second number =  25\n"
     ]
    },
    {
     "name": "stdout",
     "output_type": "stream",
     "text": [
      "The L.C.M. is 425\n"
     ]
    }
   ],
   "source": [
    "# Python Program to find the L.C.M. of two input number\n",
    "\n",
    "def compute_lcm(x, y):\n",
    "\n",
    "   # choose the greater number\n",
    "   if x > y:\n",
    "       greater = x\n",
    "   else:\n",
    "       greater = y\n",
    "\n",
    "   while(True):\n",
    "        # Check as if same greater is divisible by x and y at the same or not\n",
    "       if((greater % x == 0) and (greater % y == 0)):\n",
    "           lcm = greater\n",
    "           break\n",
    "        \n",
    "       greater += 1    # incrementening the greater\n",
    "\n",
    "   return lcm\n",
    "\n",
    "num1 = int(input(\"Enter first number = \"))\n",
    "num2 = int(input(\"Enter second number = \"))\n",
    "\n",
    "print(\"The L.C.M. is\", compute_lcm(num1, num2))"
   ]
  },
  {
   "cell_type": "code",
   "execution_count": null,
   "metadata": {},
   "outputs": [],
   "source": [
    "2.) Write a python program to find HCF ?"
   ]
  },
  {
   "cell_type": "code",
   "execution_count": 6,
   "metadata": {},
   "outputs": [
    {
     "name": "stdin",
     "output_type": "stream",
     "text": [
      "Enter first number =  25\n",
      "Enter second number =  65\n"
     ]
    },
    {
     "name": "stdout",
     "output_type": "stream",
     "text": [
      "The H.C.F. is 5\n"
     ]
    }
   ],
   "source": [
    "# Python Program to find the HCF of two input number\n",
    "\n",
    "def compute_hcf(x, y):\n",
    "    # choose the lowest number\n",
    "    if x < y:\n",
    "        lowest = x\n",
    "    else:\n",
    "        lowest = y\n",
    "    \n",
    "    #checks for the hcf\n",
    "    for i in range(1,lowest+1):\n",
    "        if (x % i == 0 ) and (y % i == 0):\n",
    "            hcf = i\n",
    "            \n",
    "    return hcf\n",
    "\n",
    "# Taking inputs from the user      \n",
    "num1 = int(input(\"Enter first number = \"))\n",
    "num2 = int(input(\"Enter second number = \"))\n",
    "\n",
    "print(\"The H.C.F. is\", compute_hcf(num1, num2))"
   ]
  },
  {
   "cell_type": "code",
   "execution_count": null,
   "metadata": {},
   "outputs": [],
   "source": [
    "3.) Write a Python Program to Convert Decimal to Binary, Octal and Hexadecimal?"
   ]
  },
  {
   "cell_type": "code",
   "execution_count": 8,
   "metadata": {},
   "outputs": [
    {
     "name": "stdin",
     "output_type": "stream",
     "text": [
      "Enter number =  85858\n"
     ]
    },
    {
     "name": "stdout",
     "output_type": "stream",
     "text": [
      "The decimal value of 85858 is:\n",
      "0b10100111101100010 in binary.\n",
      "0o247542 in octal.\n",
      "0x14f62 in hexadecimal.\n"
     ]
    }
   ],
   "source": [
    "# Python program to convert decimal into other number systems\n",
    "num = int(input(\"Enter number = \"))\n",
    "\n",
    "print(\"The decimal value of\", num, \"is:\")\n",
    "print(bin(num), \"in binary.\")\n",
    "print(oct(num), \"in octal.\")\n",
    "print(hex(num), \"in hexadecimal.\")"
   ]
  },
  {
   "cell_type": "code",
   "execution_count": null,
   "metadata": {},
   "outputs": [],
   "source": [
    "4.) Write a Python Program To Find ASCII value of a character?"
   ]
  },
  {
   "cell_type": "code",
   "execution_count": 9,
   "metadata": {},
   "outputs": [
    {
     "name": "stdin",
     "output_type": "stream",
     "text": [
      "Enter a single character =  k\n"
     ]
    },
    {
     "name": "stdout",
     "output_type": "stream",
     "text": [
      "ASCII value of  k is 107\n"
     ]
    }
   ],
   "source": [
    "# program to print the ASCII value of a character \n",
    "ch = input(\"Enter a single character = \")\n",
    "\n",
    "# ord() is the function which takes character and return correspoding ascii value\n",
    "print(\"ASCII value of \",ch,\"is\",ord(ch))"
   ]
  },
  {
   "cell_type": "code",
   "execution_count": null,
   "metadata": {},
   "outputs": [],
   "source": [
    "5.) Write a Python Program to Make a Simple Calculator with 4 basic mathematical operations?"
   ]
  },
  {
   "cell_type": "code",
   "execution_count": 10,
   "metadata": {},
   "outputs": [
    {
     "name": "stdout",
     "output_type": "stream",
     "text": [
      "Welcom to simple calculator\n"
     ]
    },
    {
     "name": "stdin",
     "output_type": "stream",
     "text": [
      "Type operation (add, sub, mul, div and quit)  add\n",
      "Enter second number =  5\n",
      "Enter second number =  10\n"
     ]
    },
    {
     "name": "stdout",
     "output_type": "stream",
     "text": [
      "Addition of numbers =  15\n"
     ]
    },
    {
     "name": "stdin",
     "output_type": "stream",
     "text": [
      "Type operation (add, sub, mul, div and quit)  sub\n",
      "Enter second number =  18\n",
      "Enter second number =  5\n"
     ]
    },
    {
     "name": "stdout",
     "output_type": "stream",
     "text": [
      "Subtraction of numbers =  13\n"
     ]
    },
    {
     "name": "stdin",
     "output_type": "stream",
     "text": [
      "Type operation (add, sub, mul, div and quit)  mul\n",
      "Enter second number =  5\n",
      "Enter second number =  8\n"
     ]
    },
    {
     "name": "stdout",
     "output_type": "stream",
     "text": [
      "Multiplication of numbers =  40\n"
     ]
    },
    {
     "name": "stdin",
     "output_type": "stream",
     "text": [
      "Type operation (add, sub, mul, div and quit)  div\n",
      "Enter second number =  55\n",
      "Enter second number =  11\n"
     ]
    },
    {
     "name": "stdout",
     "output_type": "stream",
     "text": [
      "Division of numbers =  5.0\n"
     ]
    },
    {
     "name": "stdin",
     "output_type": "stream",
     "text": [
      "Type operation (add, sub, mul, div and quit)  quit\n"
     ]
    }
   ],
   "source": [
    "# simple calculator\n",
    "\n",
    "print(\"Welcom to simple calculator\")\n",
    "\n",
    "while True:\n",
    "    \n",
    "    # Taking operation \n",
    "    oper = input(\"Type operation (add, sub, mul, div and quit) \")\n",
    "    \n",
    "    if oper == 'quit':\n",
    "        break\n",
    "    else:\n",
    "        \n",
    "        # Taking numbers\n",
    "        num1 = int(input(\"Enter second number = \"))\n",
    "        num2 = int(input(\"Enter second number = \"))\n",
    "\n",
    "        if oper == 'add':\n",
    "            print(\"Addition of numbers = \",num1 + num2)\n",
    "\n",
    "        elif oper == 'sub':\n",
    "            print(\"Subtraction of numbers = \",num1 - num2)\n",
    "\n",
    "        elif oper == 'mul':\n",
    "            print(\"Multiplication of numbers = \" ,num1 * num2)\n",
    "\n",
    "        elif oper == 'div':\n",
    "            print(\"Division of numbers = \", num1 / num2)\n",
    "\n",
    "        else:\n",
    "            print(\"valid option not entered\")\n",
    "        \n",
    "    "
   ]
  },
  {
   "cell_type": "code",
   "execution_count": null,
   "metadata": {},
   "outputs": [],
   "source": [
    "tt"
   ]
  }
 ],
 "metadata": {
  "kernelspec": {
   "display_name": "Python 3",
   "language": "python",
   "name": "python3"
  },
  "language_info": {
   "codemirror_mode": {
    "name": "ipython",
    "version": 3
   },
   "file_extension": ".py",
   "mimetype": "text/x-python",
   "name": "python",
   "nbconvert_exporter": "python",
   "pygments_lexer": "ipython3",
   "version": "3.8.5"
  }
 },
 "nbformat": 4,
 "nbformat_minor": 4
}
