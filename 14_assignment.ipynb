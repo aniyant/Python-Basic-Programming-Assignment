{
 "cells": [
  {
   "cell_type": "code",
   "execution_count": null,
   "metadata": {},
   "outputs": [],
   "source": [
    "1.) Define a class with a generator which can iterate the numbers, which are divisible by\n",
    "7, between a given range 0 and n."
   ]
  },
  {
   "cell_type": "code",
   "execution_count": 8,
   "metadata": {},
   "outputs": [
    {
     "name": "stdout",
     "output_type": "stream",
     "text": [
      "7\n",
      "14\n"
     ]
    }
   ],
   "source": [
    "# program where a class with a generator which can iterate !\n",
    "class generate:\n",
    "    def __init__(self,first,last):\n",
    "        self.first = first\n",
    "        self.last = last\n",
    "        \n",
    "    def gen(self):\n",
    "        for i in range(self.first,self.last):\n",
    "            if i % 7 == 0:\n",
    "                yield i\n",
    "            \n",
    "g = generate(4,100)\n",
    "t = g.gen()\n",
    "print(next(t))\n",
    "print(next(t))"
   ]
  },
  {
   "cell_type": "code",
   "execution_count": null,
   "metadata": {},
   "outputs": [],
   "source": [
    "2.) Write a program to compute the frequency of the words from the input. The output\n",
    "should output after sorting the key alphanumerically.\n",
    "Suppose the following input is supplied to the program:\n",
    "New to Python or choosing between Python 2 and Python 3? Read Python 2 or\n",
    "Python 3.\n",
    "Then, the output should be:\n",
    "2:2\n",
    "3.:1\n",
    "3?:1\n",
    "New:1\n",
    "Python:5\n",
    "Read:1\n",
    "and:1\n",
    "between:1\n",
    "choosing:1\n",
    "or:2\n",
    "to:1"
   ]
  },
  {
   "cell_type": "code",
   "execution_count": 9,
   "metadata": {},
   "outputs": [
    {
     "name": "stdin",
     "output_type": "stream",
     "text": [
      "Enter the string =  New to Python or choosing between Python 2 and Python 3? Read Python 2 or Python 3.\n"
     ]
    },
    {
     "name": "stdout",
     "output_type": "stream",
     "text": [
      "words and their respective counting are as :\n",
      "2 : 2\n",
      "3. : 1\n",
      "3? : 1\n",
      "New : 1\n",
      "Python : 5\n",
      "Read : 1\n",
      "and : 1\n",
      "between : 1\n",
      "choosing : 1\n",
      "or : 2\n",
      "to : 1\n"
     ]
    }
   ],
   "source": [
    "# program to fullfill above requirements\n",
    "\n",
    "# function to count_words\n",
    "def count_words(string):\n",
    "    words = string.split(\" \")\n",
    "    words.sort()\n",
    "    \n",
    "    count_words = {}\n",
    "    for w in words:\n",
    "        if w not in count_words.keys():\n",
    "            count_words[w] = 1\n",
    "            \n",
    "        else:\n",
    "            count_words [w] += 1\n",
    "            \n",
    "    return count_words\n",
    "\n",
    "# Taking input\n",
    "string = input(\"Enter the string = \")\n",
    "\n",
    "# calling function\n",
    "count_words = count_words(string)\n",
    "\n",
    "print(\"words and their respective counting are as :\")\n",
    "for k,v in count_words.items():\n",
    "    print(k,\":\",v)\n"
   ]
  },
  {
   "cell_type": "code",
   "execution_count": null,
   "metadata": {},
   "outputs": [],
   "source": [
    "3.) Define a class Person and its two child classes: Male and Female. All classes have a\n",
    "method &quot;getGender&quot; which can print &quot;Male&quot; for Male class and &quot;Female&quot; for Female\n",
    "class."
   ]
  },
  {
   "cell_type": "code",
   "execution_count": 10,
   "metadata": {},
   "outputs": [
    {
     "name": "stdout",
     "output_type": "stream",
     "text": [
      "This is from Male class\n",
      "This is from Female class\n"
     ]
    }
   ],
   "source": [
    "# program to according to above question\n",
    "\n",
    "# first class Person\n",
    "class Person:\n",
    "    \n",
    "    def getGender(self):\n",
    "        print(\"This is from person class\")\n",
    "\n",
    "# male class inheriting male class\n",
    "class Male(Person):\n",
    "    \n",
    "    def getGender(self):\n",
    "        print(\"This is from Male class\")\n",
    "\n",
    "# female class inheriting female class\n",
    "class Female(Person):\n",
    "    \n",
    "    def getGender(self):\n",
    "        print(\"This is from Female class\")\n",
    "    \n",
    "m = Male()\n",
    "m.getGender()\n",
    "\n",
    "f = Female()\n",
    "f.getGender()\n"
   ]
  },
  {
   "cell_type": "code",
   "execution_count": null,
   "metadata": {},
   "outputs": [],
   "source": [
    "4.) Please write a program to generate all sentences where subject is in [&quot;I&quot;, &quot;You&quot;] and\n",
    "verb is in [&quot;Play&quot;, &quot;Love&quot;] and the object is in [&quot;Hockey&quot;,&quot;Football&quot;]."
   ]
  },
  {
   "cell_type": "code",
   "execution_count": 11,
   "metadata": {},
   "outputs": [
    {
     "name": "stdout",
     "output_type": "stream",
     "text": [
      "I Play Hockey\n",
      "I Play Football\n",
      "I Love Hockey\n",
      "I Love Football\n",
      "You Play Hockey\n",
      "You Play Football\n",
      "You Love Hockey\n",
      "You Love Football\n"
     ]
    }
   ],
   "source": [
    "# program to generate sentences out of given list\n",
    "\n",
    "# function\n",
    "def sente():\n",
    "    subject = [\"I\",\"You\"]\n",
    "    verb = [\"Play\",\"Love\"]\n",
    "    object = [\"Hockey\",\"Football\"]\n",
    "    \n",
    "    for s in subject:\n",
    "        for v in verb:\n",
    "            for o in object:\n",
    "                print(s,v,o)\n",
    "                \n",
    "# calling function                \n",
    "sente()\n"
   ]
  },
  {
   "cell_type": "code",
   "execution_count": null,
   "metadata": {},
   "outputs": [],
   "source": [
    "5.) Please write a program to compress and decompress the string \"hello world!hello world!hello world!hello world\""
   ]
  },
  {
   "cell_type": "code",
   "execution_count": 12,
   "metadata": {},
   "outputs": [
    {
     "name": "stdout",
     "output_type": "stream",
     "text": [
      "b'x\\x9c\\xcbH\\xcd\\xc9\\xc9W(\\xcf/\\xcaIQ\\xcc \\x82\\r\\x00\\xbd[\\x11\\xf5'\n",
      "b'hello world!hello world!hello world!hello world!'\n"
     ]
    }
   ],
   "source": [
    "# progra to compress and decompress\n",
    "import zlib\n",
    "s = 'hello world!hello world!hello world!hello world!'.encode()\n",
    "com = zlib.compress(s)\n",
    "print(com)\n",
    "decom = zlib.decompress(com)\n",
    "print(decom)\n"
   ]
  },
  {
   "cell_type": "code",
   "execution_count": null,
   "metadata": {},
   "outputs": [],
   "source": [
    "6.) Please write a binary search function which searches an item in a sorted list. The\n",
    "function should return the index of element to be searched in the list."
   ]
  },
  {
   "cell_type": "code",
   "execution_count": 13,
   "metadata": {},
   "outputs": [
    {
     "name": "stdout",
     "output_type": "stream",
     "text": [
      "[3, 3, 5, 5, 6, 7, 22, 77, 89]\n",
      "index of the element :  4\n"
     ]
    }
   ],
   "source": [
    "# program for binaray search\n",
    "\n",
    "def binary_search(lst,el,loc=0,hi=None):\n",
    "    lst.sort()\n",
    "    hi = len(lst) \n",
    "    print(lst)\n",
    "    while loc < hi:\n",
    "        mid = (loc+hi)//2\n",
    "        midval = lst[mid]\n",
    "        if midval < el:\n",
    "            loc = mid+1\n",
    "        elif midval > el:\n",
    "            hi = mid\n",
    "        else:\n",
    "            return mid\n",
    "lst = [3,5,6,7,89,3,5,22,77]\n",
    "\n",
    "print(\"index of the element : \",binary_search(lst,6))"
   ]
  },
  {
   "cell_type": "code",
   "execution_count": null,
   "metadata": {},
   "outputs": [],
   "source": []
  },
  {
   "cell_type": "code",
   "execution_count": null,
   "metadata": {},
   "outputs": [],
   "source": []
  }
 ],
 "metadata": {
  "kernelspec": {
   "display_name": "Python 3",
   "language": "python",
   "name": "python3"
  },
  "language_info": {
   "codemirror_mode": {
    "name": "ipython",
    "version": 3
   },
   "file_extension": ".py",
   "mimetype": "text/x-python",
   "name": "python",
   "nbconvert_exporter": "python",
   "pygments_lexer": "ipython3",
   "version": "3.8.5"
  }
 },
 "nbformat": 4,
 "nbformat_minor": 4
}
