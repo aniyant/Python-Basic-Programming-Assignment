{
 "cells": [
  {
   "cell_type": "markdown",
   "metadata": {},
   "source": [
    "1.) Write a python program to check if a Number is positive,Negative or Zero ?"
   ]
  },
  {
   "cell_type": "code",
   "execution_count": 10,
   "metadata": {},
   "outputs": [
    {
     "name": "stdout",
     "output_type": "stream",
     "text": [
      "Enter a number = "
     ]
    },
    {
     "name": "stdin",
     "output_type": "stream",
     "text": [
      " 85\n"
     ]
    },
    {
     "name": "stdout",
     "output_type": "stream",
     "text": [
      "85 is positive.\n"
     ]
    }
   ],
   "source": [
    "# program to check number is positive,negative or zero\n",
    "from pyinputplus import inputNum  # importing module\n",
    "num = inputNum(prompt=\"Enter a number = \")\n",
    "if num < 0:\n",
    "    print(f\"{num} is negative.\")\n",
    "elif num == 0:\n",
    "    print(\"number is 0.\")\n",
    "else:\n",
    "    print(f\"{num} is positive.\")"
   ]
  },
  {
   "cell_type": "markdown",
   "metadata": {},
   "source": [
    "2.) Write a python program to check if a number is odd or even?"
   ]
  },
  {
   "cell_type": "code",
   "execution_count": 11,
   "metadata": {},
   "outputs": [
    {
     "name": "stdin",
     "output_type": "stream",
     "text": [
      "Enter number =  kjlkjl\n"
     ]
    },
    {
     "name": "stdout",
     "output_type": "stream",
     "text": [
      "only numbers are allowed\n"
     ]
    },
    {
     "name": "stdin",
     "output_type": "stream",
     "text": [
      "Enter number =  85\n"
     ]
    },
    {
     "name": "stdout",
     "output_type": "stream",
     "text": [
      "85 is odd.\n"
     ]
    }
   ],
   "source": [
    "# program to check number is odd or even\n",
    "# taking input from user\n",
    "while True:\n",
    "    try:\n",
    "        num = int(input(\"Enter number = \"))\n",
    "    except:\n",
    "        print(\"only numbers are allowed\")\n",
    "    else:\n",
    "        break\n",
    "# checking odd even\n",
    "if num%2 == 0:\n",
    "    print(f\"{num} is even.\")\n",
    "else:\n",
    "    print(f\"{num} is odd.\")"
   ]
  },
  {
   "cell_type": "markdown",
   "metadata": {},
   "source": [
    "3.) Write a python program to check Leap year?"
   ]
  },
  {
   "cell_type": "code",
   "execution_count": 15,
   "metadata": {},
   "outputs": [
    {
     "name": "stdin",
     "output_type": "stream",
     "text": [
      "Enter year =  gfdd\n"
     ]
    },
    {
     "name": "stdout",
     "output_type": "stream",
     "text": [
      "only numbers are allowed\n"
     ]
    },
    {
     "name": "stdin",
     "output_type": "stream",
     "text": [
      "Enter year =  5666\n"
     ]
    },
    {
     "name": "stdout",
     "output_type": "stream",
     "text": [
      "5666 is not a leap year.\n"
     ]
    }
   ],
   "source": [
    "# program to check if given year is leap year or not\n",
    "\n",
    "# Taking user input\n",
    "while True:\n",
    "    try:\n",
    "        year = int(input(\"Enter year = \"))\n",
    "        \n",
    "        if year < 0:\n",
    "            raise Exception(\"year must not be negative number\")\n",
    "        else:\n",
    "            break\n",
    "    except ValueError:\n",
    "        print(\"only numbers are allowed\")\n",
    "    except Exception as e:\n",
    "        print(e)\n",
    "\n",
    "# checking year is leap or not and showing it \n",
    "if year%4 == 0:\n",
    "    print(year,\"is a leap year.\")\n",
    "else:\n",
    "    print(year,\"is not a leap year.\")"
   ]
  },
  {
   "cell_type": "markdown",
   "metadata": {},
   "source": [
    "4.) Write a python program to check prime number?"
   ]
  },
  {
   "cell_type": "code",
   "execution_count": 16,
   "metadata": {},
   "outputs": [
    {
     "name": "stdin",
     "output_type": "stream",
     "text": [
      "Enter number =  dkjkjkh\n"
     ]
    },
    {
     "name": "stdout",
     "output_type": "stream",
     "text": [
      "only numbers are allowed\n"
     ]
    },
    {
     "name": "stdin",
     "output_type": "stream",
     "text": [
      "Enter number =  8555\n"
     ]
    },
    {
     "name": "stdout",
     "output_type": "stream",
     "text": [
      "8555 is not a prime number\n"
     ]
    }
   ],
   "source": [
    "# program to check given number is prime or not\n",
    "from math import sqrt\n",
    "# taking input number from user\n",
    "while True:\n",
    "    try:\n",
    "        num = int(input('Enter number = '))\n",
    "    except:\n",
    "        print(\"only numbers are allowed\")\n",
    "    else:\n",
    "        break\n",
    "if num > 1:\n",
    "    # Iterate from 2 to sqrt(num)+1\n",
    "    for i in range(2, int(sqrt(num))+1):\n",
    "        # If num is divisible by any number between 2 and sqrt(num)+1, it is not prime\n",
    "        if (num % i) == 0:\n",
    "            print(num, \"is not a prime number\")\n",
    "            break\n",
    "    else:\n",
    "        print(num, \"is a prime number\")\n",
    "  \n",
    "else:\n",
    "    print(num, \"is not a prime number\")\n",
    "    "
   ]
  },
  {
   "cell_type": "markdown",
   "metadata": {},
   "source": [
    "5.) Write a Python Program to Print all Prime Numbers in an Interval of 1-10000?"
   ]
  },
  {
   "cell_type": "code",
   "execution_count": 17,
   "metadata": {},
   "outputs": [
    {
     "name": "stdout",
     "output_type": "stream",
     "text": [
      "0 is a prime number.\n",
      "1 is a prime number.\n",
      "2 is a prime number.\n",
      "3 is a prime number.\n",
      "5 is a prime number.\n",
      "7 is a prime number.\n"
     ]
    }
   ],
   "source": [
    "# program to print prime numbers\n",
    "from math import sqrt\n",
    "def prime(start,end):\n",
    "    for num in range(start,end):\n",
    "        for i in range(2,int(sqrt(num)+1)):\n",
    "            if (num%i) == 0:\n",
    "                break\n",
    "        else:\n",
    "            print(num,\"is a prime number.\")\n",
    "\n",
    "prime(0,10000)\n",
    "                "
   ]
  },
  {
   "cell_type": "code",
   "execution_count": null,
   "metadata": {},
   "outputs": [],
   "source": []
  }
 ],
 "metadata": {
  "kernelspec": {
   "display_name": "Python 3",
   "language": "python",
   "name": "python3"
  },
  "language_info": {
   "codemirror_mode": {
    "name": "ipython",
    "version": 3
   },
   "file_extension": ".py",
   "mimetype": "text/x-python",
   "name": "python",
   "nbconvert_exporter": "python",
   "pygments_lexer": "ipython3",
   "version": "3.8.5"
  }
 },
 "nbformat": 4,
 "nbformat_minor": 4
}
