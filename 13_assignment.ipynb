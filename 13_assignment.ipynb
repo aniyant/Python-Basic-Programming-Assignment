{
 "cells": [
  {
   "cell_type": "code",
   "execution_count": null,
   "metadata": {},
   "outputs": [],
   "source": [
    "1.) Write a program that calculates and prints the value according to the given formula:\n",
    "Q = Square root of [(2 * C * D)/H]\n",
    "Following are the fixed values of C and H:\n",
    "C is 50. H is 30.\n",
    "D is the variable whose values should be input to your program in a comma-separated\n",
    "sequence.\n",
    "Example\n",
    "Let us assume the following comma separated input sequence is given to the program:\n",
    "100,150,180\n",
    "The output of the program should be:\n",
    "18,22,24"
   ]
  },
  {
   "cell_type": "code",
   "execution_count": 5,
   "metadata": {},
   "outputs": [
    {
     "name": "stdin",
     "output_type": "stream",
     "text": [
      "Enter number in form num1,num2,num3 = 40,50,60\n"
     ]
    },
    {
     "name": "stdout",
     "output_type": "stream",
     "text": [
      "square roots are as :\n",
      "133.33333333333334 , 166.66666666666666 , 200.0 , "
     ]
    }
   ],
   "source": [
    "# program for above question\n",
    "\n",
    "def sqr_root(inp):\n",
    "    temp = list()\n",
    "    inp = inp.split(',')\n",
    "    for i in inp:\n",
    "        i = int(i)\n",
    "        temp.append((2*50*i)/30)\n",
    "        \n",
    "    return temp\n",
    "inp = input(\"Enter number in form num1,num2,num3 =\")\n",
    "\n",
    "output = sqr_root(inp)\n",
    "print('square roots are as :')\n",
    "for o in output:\n",
    "    print(o,\",\" ,end = \" \")\n"
   ]
  },
  {
   "cell_type": "code",
   "execution_count": null,
   "metadata": {},
   "outputs": [],
   "source": [
    "2.) write a program which takes 2 digits, X,Y as input and generates a 2-dimensional array. The\n",
    "element value in the i-th row and j-th column of the array should be i*j.\n",
    "Note: i=0,1.., X-1; j=0,1,¡Y-1.\n",
    "Example\n",
    "Suppose the following inputs are given to the program:\n",
    "3,5\n",
    "Then, the output of the program should be:\n",
    "[[0, 0, 0, 0, 0], [0, 1, 2, 3, 4], [0, 2, 4, 6, 8]]"
   ]
  },
  {
   "cell_type": "code",
   "execution_count": 3,
   "metadata": {},
   "outputs": [
    {
     "name": "stdin",
     "output_type": "stream",
     "text": [
      "Enter rows : 4\n",
      "Enter columns : 6\n"
     ]
    },
    {
     "name": "stdout",
     "output_type": "stream",
     "text": [
      "[[0, 0, 0, 0, 0, 0], [0, 1, 2, 3, 4, 5], [0, 2, 4, 6, 8, 10], [0, 3, 6, 9, 12, 15]]\n",
      "[[0, 0, 0, 0, 0, 0], [0, 1, 2, 3, 4, 5], [0, 2, 4, 6, 8, 10], [0, 3, 6, 9, 12, 15]]\n"
     ]
    }
   ],
   "source": [
    "# program to create two dimensional array in the above mentioned way\n",
    "\n",
    "# Taking inputs from user\n",
    "rows = int(input(\"Enter rows :\"))\n",
    "cols = int(input(\"Enter columns :\"))\n",
    "\n",
    "# creating array\n",
    "array = []\n",
    "for r in range(rows):\n",
    "    lst = []\n",
    "    for col in range(cols):\n",
    "        lst.append(r*col)\n",
    "    \n",
    "    array.append(lst)\n",
    "\n",
    "# printing the array\n",
    "# using list comprehension\n",
    "#print([[r*col for col in range(cols)] for r in range(rows)])\n",
    "print(array)"
   ]
  },
  {
   "cell_type": "code",
   "execution_count": null,
   "metadata": {},
   "outputs": [],
   "source": [
    "3.) Write a program that accepts a comma separated sequence of words as input and prints the\n",
    "words in a comma-separated sequence after sorting them alphabetically.\n",
    "Suppose the following input is supplied to the program:\n",
    "without,hello,bag,world\n",
    "Then, the output should be:\n",
    "bag,hello,without,world"
   ]
  },
  {
   "cell_type": "code",
   "execution_count": 32,
   "metadata": {},
   "outputs": [
    {
     "name": "stdin",
     "output_type": "stream",
     "text": [
      "Enter words separeted by comma =  without,hello,bag,world\n"
     ]
    },
    {
     "name": "stdout",
     "output_type": "stream",
     "text": [
      "sorted words are as : bag,hello,without,world\n"
     ]
    }
   ],
   "source": [
    "# program where words in string separeted by comma \n",
    "\n",
    "# Taking input\n",
    "string = input(\"Enter words separeted by comma = \")\n",
    "\n",
    "# sorting using this function\n",
    "def sort_words(string):\n",
    "    words = string.split(',')\n",
    "    words.sort()\n",
    "    \n",
    "    return \",\".join(words)\n",
    "\n",
    "# print the sorted words\n",
    "print(\"sorted words are as :\",sort_words(string))"
   ]
  },
  {
   "cell_type": "code",
   "execution_count": null,
   "metadata": {},
   "outputs": [],
   "source": [
    "4.) Write a program that accepts a sequence of whitespace separated words as input and prints\n",
    "the words after removing all duplicate words and sorting them alphanumerically.\n",
    "Suppose the following input is supplied to the program:\n",
    "hello world and practice makes perfect and hello world again\n",
    "Then, the output should be:\n",
    "again and hello makes perfect practice world"
   ]
  },
  {
   "cell_type": "code",
   "execution_count": 31,
   "metadata": {},
   "outputs": [
    {
     "name": "stdin",
     "output_type": "stream",
     "text": [
      "Enter words separeted by whitespace =  hello world and practice makes perfect and hello world again\n"
     ]
    },
    {
     "name": "stdout",
     "output_type": "stream",
     "text": [
      "sorted words are as : again and hello makes perfect practice world\n"
     ]
    }
   ],
   "source": [
    "# program where words in string separeted by comma \n",
    "\n",
    "# Taking input\n",
    "string = input(\"Enter words separeted by whitespace = \")\n",
    "\n",
    "# sorting  and removing duplicatesusing this function\n",
    "def sort_words(string):\n",
    "    words = string.split(' ')\n",
    "    words = set(words)\n",
    "    words = list(words)\n",
    "    words.sort()\n",
    "    \n",
    "    return \" \".join(words)\n",
    "\n",
    "# print the sorted words and removed duplicates\n",
    "print(\"sorted words are as :\",sort_words(string))"
   ]
  },
  {
   "cell_type": "code",
   "execution_count": null,
   "metadata": {},
   "outputs": [],
   "source": [
    "5.) Write a program that accepts a sentence and calculate the number of letters and digits.\n",
    "Suppose the following input is supplied to the program:\n",
    "hello world! 123\n",
    "Then, the output should be:\n",
    "LETTERS 10\n",
    "DIGITS 3"
   ]
  },
  {
   "cell_type": "code",
   "execution_count": 8,
   "metadata": {},
   "outputs": [
    {
     "name": "stdin",
     "output_type": "stream",
     "text": [
      "Enter the string =  hello world! 123\n"
     ]
    },
    {
     "name": "stdout",
     "output_type": "stream",
     "text": [
      "number of letter in the string =  10\n",
      "number of digits in the string =  3\n"
     ]
    }
   ],
   "source": [
    "# program to count letters and digits in the string\n",
    "\n",
    "import re as regex\n",
    "\n",
    "string = input(\"Enter the string = \")\n",
    "alpha = regex.findall(\"[A-Za-z]\",string)\n",
    "digit = regex.findall(\"[0-9]\",string)\n",
    "\n",
    "print(\"number of letter in the string = \",len(alpha))\n",
    "print(\"number of digits in the string = \",len(digit))"
   ]
  },
  {
   "cell_type": "code",
   "execution_count": null,
   "metadata": {},
   "outputs": [],
   "source": [
    "A website requires the users to input username and password to register. Write a program to\n",
    "check the validity of password input by users.\n",
    "Following are the criteria for checking the password:\n",
    "1. At least 1 letter between [a-z]\n",
    "2. At least 1 number between [0-9]\n",
    "1. At least 1 letter between [A-Z]\n",
    "3. At least 1 character from [$#@]\n",
    "4. Minimum length of transaction password: 6\n",
    "5. Maximum length of transaction password: 12\n",
    "Your program should accept a sequence of comma separated passwords and will check them\n",
    "according to the above criteria. Passwords that match the criteria are to be printed, each\n",
    "separated by a comma.\n",
    "Example\n",
    "If the following passwords are given as input to the program:\n",
    "ABd1234@1,a F1#,2w3E*,2We3345\n",
    "Then, the output of the program should be:\n",
    "ABd1234@1"
   ]
  },
  {
   "cell_type": "code",
   "execution_count": 29,
   "metadata": {},
   "outputs": [
    {
     "name": "stdin",
     "output_type": "stream",
     "text": [
      "Enter passwords separedted by comma =  ABd1234@1,a F1#,2w3E*,2We3345\n"
     ]
    },
    {
     "name": "stdout",
     "output_type": "stream",
     "text": [
      "The correct passwords are below : \n",
      "ABd1234@1\n"
     ]
    }
   ],
   "source": [
    "# program to check the passwords according to the criteria.\n",
    "import re\n",
    "\n",
    "def check_pass(passwords):\n",
    "    passwords =  passwords.split(\",\")\n",
    "    \n",
    "    cor_pass = []\n",
    "    \n",
    "    for p in passwords:\n",
    "\n",
    "        if (re.search(\"[a-z]\",p)) == None:\n",
    "            continue\n",
    "            \n",
    "        if (re.search('[0-9]',p)) == None:\n",
    "            continue\n",
    "            \n",
    "        if (re.search('[A-Z]',p)) == None:\n",
    "            continue\n",
    "            \n",
    "        if (re.search('[$#@]',p)) == None:\n",
    "            continue\n",
    "            \n",
    "        if (len(p) < 6 or len(p) > 12):\n",
    "            continue \n",
    "        cor_pass.append(p)\n",
    "    \n",
    "    return cor_pass\n",
    "            \n",
    "passwords = input(\"Enter passwords separedted by comma = \")      \n",
    "\n",
    "# calling function\n",
    "\n",
    "print(\"The correct passwords are below : \")\n",
    "for c in check_pass(passwords):\n",
    "    print(c)"
   ]
  },
  {
   "cell_type": "code",
   "execution_count": 20,
   "metadata": {},
   "outputs": [],
   "source": []
  }
 ],
 "metadata": {
  "kernelspec": {
   "display_name": "Python 3",
   "language": "python",
   "name": "python3"
  },
  "language_info": {
   "codemirror_mode": {
    "name": "ipython",
    "version": 3
   },
   "file_extension": ".py",
   "mimetype": "text/x-python",
   "name": "python",
   "nbconvert_exporter": "python",
   "pygments_lexer": "ipython3",
   "version": "3.8.5"
  }
 },
 "nbformat": 4,
 "nbformat_minor": 4
}
