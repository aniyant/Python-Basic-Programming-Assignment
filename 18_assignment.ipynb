{
 "cells": [
  {
   "cell_type": "code",
   "execution_count": null,
   "metadata": {},
   "outputs": [],
   "source": [
    "1.) Create a function that takes a list of non-negative integers and strings and return a new list\n",
    "without the strings.\n",
    "Examples\n",
    "filter_list([1, 2,\"a\",\"b\"]) ➞ [1, 2]\n",
    "filter_list([1,\"a\",\"b\", 0, 15]) ➞ [1, 0, 15]\n",
    "filter_list([1, 2, \"aasf\",\"1\",\"123\", 123]) ➞ [1, 2, 123]"
   ]
  },
  {
   "cell_type": "code",
   "execution_count": 3,
   "metadata": {},
   "outputs": [
    {
     "name": "stdout",
     "output_type": "stream",
     "text": [
      "[1, 2]\n",
      "[1, 2, 5, 7, 8]\n",
      "[1, 2, 3434, 54]\n"
     ]
    }
   ],
   "source": [
    "# program to filter integers and creates new list out list\n",
    "\n",
    "def filter_list(lst):\n",
    "    temp = []\n",
    "    for l in lst:\n",
    "        if type(l) == (int or float):\n",
    "            temp.append(l)\n",
    "            \n",
    "    return temp\n",
    "\n",
    "print(filter_list([1,2,'a','b']))\n",
    "print(filter_list([1,2,'a','b',5,7,8]))\n",
    "print(filter_list([1,2,'a','b','aasf',3434,'433',54]))"
   ]
  },
  {
   "cell_type": "code",
   "execution_count": null,
   "metadata": {},
   "outputs": [],
   "source": [
    "2.) The &quot;Reverser&quot; takes a string as input and returns that string in reverse order, with the\n",
    "opposite case.\n",
    "Examples\n",
    "reverse(\"Hello World\") ➞ DLROw OLLEh\n",
    "reverse(\"ReVeRsE\") ➞ eSrEvEr\n",
    "reverse(\"Radar\") ➞ RADAr"
   ]
  },
  {
   "cell_type": "code",
   "execution_count": 11,
   "metadata": {},
   "outputs": [
    {
     "name": "stdout",
     "output_type": "stream",
     "text": [
      "DLROw OLLEh\n",
      "eSrEvEr\n",
      "RADAr\n"
     ]
    }
   ],
   "source": [
    "# program to retrun the string in reverse order with reverse case\n",
    "\n",
    "def reverse(string):\n",
    "    rev = []\n",
    "    l = len(string)-1\n",
    "    while l != -1:\n",
    "        rev.append(string[l].swapcase())\n",
    "        l = l-1\n",
    "            \n",
    "    return ''.join(rev)\n",
    "\n",
    "print(reverse('Hello World'))\n",
    "print(reverse('ReVeRsE'))\n",
    "print(reverse('Radar'))\n",
    "        "
   ]
  },
  {
   "cell_type": "code",
   "execution_count": null,
   "metadata": {},
   "outputs": [],
   "source": [
    "3.) You can assign variables from lists like this:\n",
    "lst = [1, 2, 3, 4, 5, 6]\n",
    "first = lst[0]\n",
    "middle = lst[1:-1]\n",
    "last = lst[-1]\n",
    "print(first) ➞ outputs 1\n",
    "print(middle) ➞ outputs [2, 3, 4, 5]\n",
    "print(last) ➞ outputs 6\n",
    "With Python 3, you can assign variables from lists in a much more succinct way. Create\n",
    "variables first, middle and last from the given list using destructuring assignment\n",
    "(check the Resources tab for some examples), where:\n",
    "first ➞ 1\n",
    "middle ➞ [2, 3, 4, 5]\n",
    "last ➞ 6"
   ]
  },
  {
   "cell_type": "code",
   "execution_count": 12,
   "metadata": {},
   "outputs": [
    {
     "name": "stdout",
     "output_type": "stream",
     "text": [
      "first : 1\n",
      "middle : [1, 2, 3, 4, 5]\n",
      "last : 6\n"
     ]
    }
   ],
   "source": [
    "## we can assign the three variable in succinit way\n",
    "\n",
    "lst = [1,2,3,4,5,6]\n",
    "\n",
    "## initalizing three variable in one line\n",
    "\n",
    "first,middle,last = lst[0],lst[0:-1],lst[-1]\n",
    "\n",
    "print(\"first :\",first)\n",
    "print(\"middle :\",middle)\n",
    "print('last :',last)"
   ]
  },
  {
   "cell_type": "code",
   "execution_count": null,
   "metadata": {},
   "outputs": [],
   "source": [
    "4.) Write a function that calculates the factorial of a number recursively.\n",
    "Examples\n",
    "factorial(5) ➞ 120\n",
    "factorial(3) ➞ 6\n",
    "factorial(1) ➞ 1\n",
    "factorial(0) ➞ 1"
   ]
  },
  {
   "cell_type": "code",
   "execution_count": 13,
   "metadata": {},
   "outputs": [
    {
     "data": {
      "text/plain": [
       "120"
      ]
     },
     "execution_count": 13,
     "metadata": {},
     "output_type": "execute_result"
    }
   ],
   "source": [
    "# function that calculates the factorial of a number recursi\n",
    "\n",
    "def factorial(n):\n",
    "    if n == 1:\n",
    "        return 1\n",
    "    else:\n",
    "        mul = n*factorial(n-1)\n",
    "        return mul\n",
    "\n",
    "factorial(5)"
   ]
  },
  {
   "cell_type": "code",
   "execution_count": null,
   "metadata": {},
   "outputs": [],
   "source": [
    "5.) Write a function that moves all elements of one type to the end of the list.\n",
    "Examples\n",
    "move_to_end([1, 3, 2, 4, 4, 1], 1) ➞ [3, 2, 4, 4, 1, 1]\n",
    "# Move all the 1s to the end of the array.\n",
    "move_to_end([7, 8, 9, 1, 2, 3, 4], 9) ➞ [7, 8, 1, 2, 3, 4, 9]\n",
    "move_to_end([\"a\",\"a\";,\"a\",\"b\"],\"a\") ➞ [\"b\",\"a\",\"a\",\"a\"]"
   ]
  },
  {
   "cell_type": "code",
   "execution_count": 17,
   "metadata": {},
   "outputs": [
    {
     "name": "stdout",
     "output_type": "stream",
     "text": [
      "[3, 2, 4, 4, 1, 1]\n",
      "[7, 8, 1, 2, 3, 4, 9]\n",
      "['b', 'a', 'a', 'a']\n"
     ]
    }
   ],
   "source": [
    "# program to move the one kind of data into end of list\n",
    "\n",
    "def move_to_end(lst,el):\n",
    "    temp = []\n",
    "    el_temp = []\n",
    "    \n",
    "    for l in lst:\n",
    "        if l == el:\n",
    "            el_temp.append(l)\n",
    "        else:\n",
    "            temp.append(l)\n",
    "            \n",
    "    return temp+el_temp\n",
    "\n",
    "print(move_to_end([1,3,2,4,4,1],1))\n",
    "print(move_to_end([7, 8, 9, 1, 2, 3, 4], 9))\n",
    "print(move_to_end([\"a\", \"a\",\"a\",\"b\"],\"a\"))"
   ]
  },
  {
   "cell_type": "code",
   "execution_count": null,
   "metadata": {},
   "outputs": [],
   "source": []
  }
 ],
 "metadata": {
  "kernelspec": {
   "display_name": "Python 3",
   "language": "python",
   "name": "python3"
  },
  "language_info": {
   "codemirror_mode": {
    "name": "ipython",
    "version": 3
   },
   "file_extension": ".py",
   "mimetype": "text/x-python",
   "name": "python",
   "nbconvert_exporter": "python",
   "pygments_lexer": "ipython3",
   "version": "3.8.5"
  }
 },
 "nbformat": 4,
 "nbformat_minor": 4
}
