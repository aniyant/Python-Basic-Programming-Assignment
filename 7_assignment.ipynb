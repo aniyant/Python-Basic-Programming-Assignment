{
 "cells": [
  {
   "cell_type": "code",
   "execution_count": null,
   "metadata": {},
   "outputs": [],
   "source": [
    "1.) Write a Python Program to find sum of array?"
   ]
  },
  {
   "cell_type": "code",
   "execution_count": 28,
   "metadata": {},
   "outputs": [
    {
     "name": "stdout",
     "output_type": "stream",
     "text": [
      "sum of  [2, 5, 6, 7, 8, 9] is 37\n"
     ]
    }
   ],
   "source": [
    "# There is no array in core python we can implement it using list\n",
    "\n",
    "arr = [2,5,6,7,8,9]\n",
    "\n",
    "# sum function returns the sum of all the elements of the iterables.\n",
    "sum = sum(arr)\n",
    "\n",
    "## print\n",
    "print(\"sum of \",arr,\"is\",sum)\n"
   ]
  },
  {
   "cell_type": "code",
   "execution_count": null,
   "metadata": {},
   "outputs": [],
   "source": [
    "2.) Write a python program to find largest element in an array?"
   ]
  },
  {
   "cell_type": "code",
   "execution_count": 29,
   "metadata": {},
   "outputs": [
    {
     "name": "stdout",
     "output_type": "stream",
     "text": [
      "The largest of [6, 7, 8, 3, 4, 9] is 9\n"
     ]
    }
   ],
   "source": [
    "# python program to find the largest element in an array\n",
    "\n",
    "arr = [6,7,8,3,4,9]\n",
    "print(\"The largest of\",arr,\"is\",max(arr))"
   ]
  },
  {
   "cell_type": "code",
   "execution_count": null,
   "metadata": {},
   "outputs": [],
   "source": [
    "3.) Write a python program for array rotation?"
   ]
  },
  {
   "cell_type": "code",
   "execution_count": 2,
   "metadata": {},
   "outputs": [
    {
     "name": "stdout",
     "output_type": "stream",
     "text": [
      "Array before left rotaion is:  [1, 2, 3, 4, 5, 6, 7]\n",
      "Array after left rotation is:  [3, 4, 5, 6, 7, 1, 2]\n"
     ]
    }
   ],
   "source": [
    "# function to rotate array by d elements using temp array\n",
    "def rotateArray(arr, n, d):\n",
    "\ttemp = []\n",
    "\ti = 0\n",
    "\twhile (i < d):\n",
    "\t\ttemp.append(arr[i])\n",
    "\t\ti = i + 1\n",
    "\ti = 0\n",
    "\twhile (d < n):\n",
    "\t\tarr[i] = arr[d]\n",
    "\t\ti = i + 1\n",
    "\t\td = d + 1\n",
    "\tarr[:] = arr[: i] + temp\n",
    "\treturn arr\n",
    "\n",
    "\n",
    "# Driver function to test above function\n",
    "arr = [1, 2, 3, 4, 5, 6, 7]\n",
    "print(\"Array before left rotaion is: \",arr)\n",
    "print(\"Array after left rotation is: \", end=' ')\n",
    "print(rotateArray(arr, len(arr), 2))\n"
   ]
  },
  {
   "cell_type": "code",
   "execution_count": null,
   "metadata": {},
   "outputs": [],
   "source": [
    "4.) write a Python Program to Split the array and add the first part to the end?"
   ]
  },
  {
   "cell_type": "code",
   "execution_count": 11,
   "metadata": {},
   "outputs": [
    {
     "data": {
      "text/plain": [
       "[5, 6, 7, 8, 9, 1, 2, 3, 4]"
      ]
     },
     "execution_count": 11,
     "metadata": {},
     "output_type": "execute_result"
    }
   ],
   "source": [
    "# Python program to split the array and add the first part to the end \n",
    "arr = [1,2,3,4,5,6,7,8,9]\n",
    "\n",
    "def split_add(arr,break_point):\n",
    "    # first will contain first split part including break point index value\n",
    "    temp_f = []\n",
    "    # this will contain other part\n",
    "    temp_l = []\n",
    "    \n",
    "    temp_f = arr[0:break_point+1]\n",
    "    temp_l = arr[break_point+1:]\n",
    "    \n",
    "    return temp_l + temp_f\n",
    "\n",
    "split_add(arr,3)\n",
    "    "
   ]
  },
  {
   "cell_type": "code",
   "execution_count": null,
   "metadata": {},
   "outputs": [],
   "source": [
    "5.) Write a Python Program to check if given array is Monotonic?"
   ]
  },
  {
   "cell_type": "code",
   "execution_count": 23,
   "metadata": {},
   "outputs": [
    {
     "name": "stdout",
     "output_type": "stream",
     "text": [
      "True\n"
     ]
    }
   ],
   "source": [
    "# Check if given array is Monotonic\n",
    "def isMonotonic(A):\n",
    "    return all(A[i] <= A[i + 1] for i in range(len(A) - 1)) or all(A[i] >= A[i + 1] for i in range(len(A) - 1))\n",
    "\n",
    "A = [6, 5, 4, 4]\n",
    "\n",
    "# Print required result\n",
    "print(isMonotonic(A))\n"
   ]
  },
  {
   "cell_type": "code",
   "execution_count": null,
   "metadata": {},
   "outputs": [],
   "source": []
  },
  {
   "cell_type": "code",
   "execution_count": null,
   "metadata": {},
   "outputs": [],
   "source": []
  }
 ],
 "metadata": {
  "kernelspec": {
   "display_name": "Python 3",
   "language": "python",
   "name": "python3"
  },
  "language_info": {
   "codemirror_mode": {
    "name": "ipython",
    "version": 3
   },
   "file_extension": ".py",
   "mimetype": "text/x-python",
   "name": "python",
   "nbconvert_exporter": "python",
   "pygments_lexer": "ipython3",
   "version": "3.8.5"
  }
 },
 "nbformat": 4,
 "nbformat_minor": 4
}
