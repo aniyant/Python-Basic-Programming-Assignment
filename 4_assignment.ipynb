{
 "cells": [
  {
   "cell_type": "code",
   "execution_count": null,
   "metadata": {},
   "outputs": [],
   "source": [
    "1.) Write a python program to find the Factorial of a Number ?"
   ]
  },
  {
   "cell_type": "code",
   "execution_count": 1,
   "metadata": {},
   "outputs": [
    {
     "name": "stdin",
     "output_type": "stream",
     "text": [
      "Enter number =  6\n"
     ]
    },
    {
     "name": "stdout",
     "output_type": "stream",
     "text": [
      "factorial of  6 is 720\n"
     ]
    }
   ],
   "source": [
    "# program to give factorial of the given number\n",
    "\n",
    "# Taking input number\n",
    "while True:\n",
    "    try:\n",
    "        num = int(input(\"Enter number = \"))\n",
    "        break\n",
    "    except:\n",
    "        print(\"only numbers are allowed.\")\n",
    "        \n",
    "fact = 1\n",
    "# Calullating factorial of the number\n",
    "for n in range(1,num+1):\n",
    "    fact = fact * n\n",
    "\n",
    "# Output\n",
    "print(\"factorial of \",num,'is',fact)\n"
   ]
  },
  {
   "cell_type": "code",
   "execution_count": null,
   "metadata": {},
   "outputs": [],
   "source": [
    "2.) Write a Python Program to Display the multiplication Table?"
   ]
  },
  {
   "cell_type": "code",
   "execution_count": 6,
   "metadata": {},
   "outputs": [
    {
     "name": "stdin",
     "output_type": "stream",
     "text": [
      "Enter first number =  9\n"
     ]
    },
    {
     "name": "stdout",
     "output_type": "stream",
     "text": [
      "Multiplication Table of 9\n",
      "9\n",
      "18\n",
      "27\n",
      "36\n",
      "45\n",
      "54\n",
      "63\n",
      "72\n",
      "81\n",
      "90\n"
     ]
    }
   ],
   "source": [
    "# Program to Display the multiplication Table\n",
    "\n",
    "# Taking number\n",
    "while True:\n",
    "    try:\n",
    "        num = int(input('Enter first number = '))\n",
    "        break\n",
    "    except:\n",
    "        print('only numbers allowed')\n",
    "\n",
    "# Output the multiplication of table of the number       \n",
    "print(\"Multiplication Table of\",num)\n",
    "for n in range(1,11):\n",
    "    print(num*n)\n",
    "    "
   ]
  },
  {
   "cell_type": "code",
   "execution_count": null,
   "metadata": {},
   "outputs": [],
   "source": [
    "3.) Write a Python Program to print the fibonacci sequence?"
   ]
  },
  {
   "cell_type": "code",
   "execution_count": 13,
   "metadata": {},
   "outputs": [
    {
     "name": "stdout",
     "output_type": "stream",
     "text": [
      "1,1,2,3,5,8,13,21,34,55,"
     ]
    }
   ],
   "source": [
    "# Program to print the fibonacci sequence\n",
    "\n",
    "# function which will argument of number of sequence you want to generate\n",
    "def fib(num):\n",
    "    a = 1\n",
    "    b = 1\n",
    "    print(a,end=\",\")\n",
    "    print(b,end=\",\")\n",
    "    c = a+b\n",
    "    for n in range(2,num):\n",
    "        print(c,end=\",\")  \n",
    "        a,b=b,c          # swapping values of variables\n",
    "        c = a+b\n",
    "\n",
    "# Calling the function\n",
    "fib(10)"
   ]
  },
  {
   "cell_type": "code",
   "execution_count": null,
   "metadata": {},
   "outputs": [],
   "source": [
    "4.) Write a Python Program to Check Armstrong Number?"
   ]
  },
  {
   "cell_type": "code",
   "execution_count": 3,
   "metadata": {},
   "outputs": [
    {
     "name": "stdout",
     "output_type": "stream",
     "text": [
      "153 is a armstrong number.\n"
     ]
    }
   ],
   "source": [
    "# Program to check if a number is Armstrong number or not\n",
    "\n",
    "# Function takes the argument number\n",
    "def armstrong(num):\n",
    "    # count contains number of digits in the number\n",
    "    count = len(str(num))\n",
    "    \n",
    "    mul = 0\n",
    "    for i in range(0,count):\n",
    "        mul = mul + int(str(num)[i])**count\n",
    "    \n",
    "    # checking if mul == num or not\n",
    "    if mul == num:\n",
    "        print(num,\"is a armstrong number.\")\n",
    "    else:\n",
    "        print(num,\"is not a armstrong number\")\n",
    "\n",
    "# calling the armstrong function\n",
    "armstrong(153)"
   ]
  },
  {
   "cell_type": "code",
   "execution_count": null,
   "metadata": {},
   "outputs": [],
   "source": [
    "5.) Write a python program to find Armstrong number in an Interval?"
   ]
  },
  {
   "cell_type": "code",
   "execution_count": 10,
   "metadata": {},
   "outputs": [
    {
     "name": "stdin",
     "output_type": "stream",
     "text": [
      "Enter first start of interval =  9\n",
      "Enter the last number of interval =  500\n"
     ]
    },
    {
     "name": "stdout",
     "output_type": "stream",
     "text": [
      "9 is a armstrong number.\n",
      "153 is a armstrong number.\n",
      "370 is a armstrong number.\n",
      "371 is a armstrong number.\n",
      "407 is a armstrong number.\n"
     ]
    }
   ],
   "source": [
    "# Function takes the argument number\n",
    "def armstrong(num):\n",
    "    # count contains number of digits in the number\n",
    "    count = len(str(num))\n",
    "    \n",
    "    mul = 0\n",
    "    for i in range(0,count):\n",
    "        mul = mul + int(str(num)[i])**count\n",
    "    \n",
    "    # checking if mul == num or not\n",
    "    if mul == num:\n",
    "        print(num,\"is a armstrong number.\")\n",
    "\n",
    "# Taking the range\n",
    "start = int(input(\"Enter first start of interval = \"))\n",
    "end = int(input(\"Enter the last number of interval = \"))\n",
    "\n",
    "for num in range(start,end+1):\n",
    "    # calling function\n",
    "    armstrong(num)"
   ]
  },
  {
   "cell_type": "code",
   "execution_count": null,
   "metadata": {},
   "outputs": [],
   "source": [
    "6.) Write a python program to find the sum of Natural Numbers?"
   ]
  },
  {
   "cell_type": "code",
   "execution_count": 14,
   "metadata": {},
   "outputs": [
    {
     "name": "stdin",
     "output_type": "stream",
     "text": [
      "Enter the number till which you want sum  =  1000\n"
     ]
    },
    {
     "name": "stdout",
     "output_type": "stream",
     "text": [
      "sum till given number =  500500\n"
     ]
    }
   ],
   "source": [
    "# program to print sum till given natural number\n",
    "\n",
    "num = int(input(\"Enter the number till which you want sum  = \"))\n",
    "sum = 0\n",
    "# looping till the given number\n",
    "for n in range(1,num+1):\n",
    "    sum = sum + n\n",
    "\n",
    "# print the sum\n",
    "print(\"sum till given number = \",sum)\n",
    "    "
   ]
  },
  {
   "cell_type": "code",
   "execution_count": null,
   "metadata": {},
   "outputs": [],
   "source": []
  }
 ],
 "metadata": {
  "kernelspec": {
   "display_name": "Python 3",
   "language": "python",
   "name": "python3"
  },
  "language_info": {
   "codemirror_mode": {
    "name": "ipython",
    "version": 3
   },
   "file_extension": ".py",
   "mimetype": "text/x-python",
   "name": "python",
   "nbconvert_exporter": "python",
   "pygments_lexer": "ipython3",
   "version": "3.8.5"
  }
 },
 "nbformat": 4,
 "nbformat_minor": 4
}
