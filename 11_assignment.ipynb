{
 "cells": [
  {
   "cell_type": "code",
   "execution_count": null,
   "metadata": {},
   "outputs": [],
   "source": [
    "1.) Write a Python program to find words which are greater than given length k?"
   ]
  },
  {
   "cell_type": "code",
   "execution_count": 2,
   "metadata": {},
   "outputs": [
    {
     "name": "stdout",
     "output_type": "stream",
     "text": [
      "words which are having length greater than 5 are as :\n",
      "kumars\n",
      "beleif\n"
     ]
    }
   ],
   "source": [
    "# program to find words with length greater than given k\n",
    "\n",
    "def f_words(lst,k):\n",
    "    temp = []\n",
    "    for l in lst:\n",
    "        if type(l) == str:\n",
    "            if len(l) > k:\n",
    "                temp.append(l)\n",
    "    return temp\n",
    "\n",
    "lst = ['hello',345,'kumars','saras','beleif','and','k']\n",
    "k = 5\n",
    "\n",
    "print(\"words which are having length greater than\",k,'are as :')\n",
    "\n",
    "for words in f_words(lst,k):\n",
    "    print(words)\n"
   ]
  },
  {
   "cell_type": "code",
   "execution_count": null,
   "metadata": {},
   "outputs": [],
   "source": [
    "2.) Write a Python program for removing i-th character from a string?"
   ]
  },
  {
   "cell_type": "code",
   "execution_count": 8,
   "metadata": {},
   "outputs": [
    {
     "name": "stdout",
     "output_type": "stream",
     "text": [
      "Before removing :\n",
      "my name is sunny kumar\n",
      "After removing 5 th character :\n",
      "my nae is sunny kumar\n"
     ]
    }
   ],
   "source": [
    "# program which remove i-th character from a string \n",
    "\n",
    "def del_ith_char(string,ith):\n",
    "    lst = list(string)\n",
    "    if ith < len(lst):\n",
    "        lst.pop(ith)\n",
    "    return ''.join(lst)\n",
    "\n",
    "string = \"my name is sunny kumar\"\n",
    "ith = 5\n",
    "print(\"Before removing :\")\n",
    "print(string)\n",
    "print(\"After removing\",ith,\"th character :\")\n",
    "print(del_ith_char(string,ith))"
   ]
  },
  {
   "cell_type": "code",
   "execution_count": null,
   "metadata": {},
   "outputs": [],
   "source": [
    "3.) Write a Python program to split and join a string?"
   ]
  },
  {
   "cell_type": "code",
   "execution_count": 14,
   "metadata": {},
   "outputs": [
    {
     "name": "stdout",
     "output_type": "stream",
     "text": [
      "splitting string : ['my', 'name', 'is', 'sunny', 'kumar']\n",
      "joining string : my name is sunny kumar\n"
     ]
    }
   ],
   "source": [
    "# program to split and join a string\n",
    "\n",
    "string = \"my name is sunny kumar\"\n",
    "\n",
    "# splitting string\n",
    "print(\"splitting string :\",string.split(' '))\n",
    "\n",
    "# joing back the into string\n",
    "print(\"joining string :\",' '.join(string.split(' ')))"
   ]
  },
  {
   "cell_type": "code",
   "execution_count": null,
   "metadata": {},
   "outputs": [],
   "source": [
    "4.) Write a Python to check if a given string is binary string or not?"
   ]
  },
  {
   "cell_type": "code",
   "execution_count": 15,
   "metadata": {},
   "outputs": [
    {
     "name": "stdout",
     "output_type": "stream",
     "text": [
      "0101011100001111\n",
      "yes string is binary\n"
     ]
    }
   ],
   "source": [
    "# program to check given string is binary or not\n",
    "\n",
    "# Input: str = \"01010101010\"\n",
    "# Output: Yes\n",
    "\n",
    "def check(string):\n",
    "    string = set(string)\n",
    "    b = {'0','1'}\n",
    "    \n",
    "    if string == b or string == {'0'} or string == {'1'}:\n",
    "        print('yes string is binary')\n",
    "    else:\n",
    "        print('not binary')\n",
    "        \n",
    "string = \"0101011100001111\"\n",
    "\n",
    "print(string)\n",
    "check(string)"
   ]
  },
  {
   "cell_type": "code",
   "execution_count": null,
   "metadata": {},
   "outputs": [],
   "source": [
    "5.) Write a Python program to find uncommon words from two Strings?"
   ]
  },
  {
   "cell_type": "code",
   "execution_count": 16,
   "metadata": {},
   "outputs": [
    {
     "name": "stdout",
     "output_type": "stream",
     "text": [
      "['sunny', 'kumar', 'is', 'good', 'awsome', 'batman'] \n",
      " ['kumar', 'good', 'hero', 'nice', 'is']\n",
      "uncommon words in both above list are as: \n",
      "sunny\n",
      "awsome\n",
      "batman\n",
      "hero\n",
      "nice\n"
     ]
    }
   ],
   "source": [
    "# program to find uncommon words from two strings\n",
    "\n",
    "def uncommon_words(str1,str2):\n",
    "    uncommon = []\n",
    "    for i in str1:\n",
    "        if i not in str2:\n",
    "            uncommon.append(i)\n",
    "            \n",
    "    for j in str2:\n",
    "        if j not in str1:\n",
    "            uncommon.append(j)\n",
    "            \n",
    "    return uncommon\n",
    "\n",
    "str1 = ['sunny','kumar','is','good','awsome','batman']\n",
    "str2 = ['kumar','good','hero','nice','is']\n",
    "\n",
    "print(str1,'\\n',str2)\n",
    "print(\"uncommon words in both above list are as: \")\n",
    "\n",
    "for un in uncommon_words(str1,str2):\n",
    "    print(un)\n",
    "            "
   ]
  },
  {
   "cell_type": "code",
   "execution_count": null,
   "metadata": {},
   "outputs": [],
   "source": [
    "6.) Write a Python to find all duplicate characters in string?"
   ]
  },
  {
   "cell_type": "code",
   "execution_count": 27,
   "metadata": {},
   "outputs": [
    {
     "name": "stdout",
     "output_type": "stream",
     "text": [
      "my name is sunny kumar and it is awsome to be sunny okay.\n",
      "duplicates character are in string are as : ['m', 'y', ' ', 'n', 'a', 'e', 'i', 's', 'u', 'k', 't', 'o']\n"
     ]
    }
   ],
   "source": [
    "# program to find all duplicates characters in string\n",
    "\n",
    "def check_dup(string):\n",
    "    dup = {}\n",
    "    for i in string:\n",
    "        if i not in dup.keys():\n",
    "            dup[i] = 1\n",
    "        else:\n",
    "            dup[i] = dup[i] + 1\n",
    "    \n",
    "    return [i for i in dup.keys() if dup[i] > 1]\n",
    "        \n",
    "\n",
    "string = 'my name is sunny kumar and it is awsome to be sunny okay.'\n",
    "\n",
    "print(string)\n",
    "print(\"duplicates character are in string are as :\",check_dup(string))\n",
    "\n",
    "            "
   ]
  },
  {
   "cell_type": "code",
   "execution_count": null,
   "metadata": {},
   "outputs": [],
   "source": [
    "7.) Write a Python Program to check if a string contains any special character?"
   ]
  },
  {
   "cell_type": "code",
   "execution_count": 34,
   "metadata": {},
   "outputs": [
    {
     "name": "stdout",
     "output_type": "stream",
     "text": [
      "string contains special character\n"
     ]
    }
   ],
   "source": [
    "# program to check if a string contains any special characters\n",
    "\n",
    "special = \"[@_!#$%^&*()<>?/|}{~:]\"\n",
    "spe_ = set(special)\n",
    "\n",
    "\n",
    "string = \"my name is $ synny  kumar\"\n",
    "\n",
    "flag = True\n",
    "for i in string:\n",
    "    if i in spe_:\n",
    "        print(\"string contains special character\")\n",
    "        flag = False\n",
    "        break\n",
    "if flag:\n",
    "    print(\"string not contains special characters\")"
   ]
  },
  {
   "cell_type": "code",
   "execution_count": null,
   "metadata": {},
   "outputs": [],
   "source": []
  }
 ],
 "metadata": {
  "kernelspec": {
   "display_name": "Python 3",
   "language": "python",
   "name": "python3"
  },
  "language_info": {
   "codemirror_mode": {
    "name": "ipython",
    "version": 3
   },
   "file_extension": ".py",
   "mimetype": "text/x-python",
   "name": "python",
   "nbconvert_exporter": "python",
   "pygments_lexer": "ipython3",
   "version": "3.8.5"
  }
 },
 "nbformat": 4,
 "nbformat_minor": 4
}
