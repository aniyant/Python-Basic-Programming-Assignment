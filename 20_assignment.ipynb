{
 "cells": [
  {
   "cell_type": "code",
   "execution_count": null,
   "metadata": {},
   "outputs": [],
   "source": [
    "1.) Create a function that takes a list of strings and integers, and filters out the list so that it\n",
    "returns a list of integers only.\n",
    "Examples\n",
    "filter_list([1, 2, 3,\"a\",\"b\", 4]) ➞ [1, 2, 3, 4]\n",
    "filter_list([\"A\", 0, \"Edabit\", 1729, \"Python\", \"1729\"]) ➞ [0, 1729]\n",
    "filter_list([\"Nothing\",\"here\"]) ➞ []"
   ]
  },
  {
   "cell_type": "code",
   "execution_count": 2,
   "metadata": {},
   "outputs": [
    {
     "name": "stdout",
     "output_type": "stream",
     "text": [
      "[1, 2, 3, 4]\n",
      "[0, 1729]\n",
      "[]\n"
     ]
    }
   ],
   "source": [
    "## program to filter list of int out of list\n",
    "\n",
    "def filter_list(lst):\n",
    "    temp = []\n",
    "    for l in lst:\n",
    "        if type(l) == int:\n",
    "            temp.append(l)\n",
    "            \n",
    "    return temp\n",
    "\n",
    "print(filter_list([1, 2, 3,\"a\",\"b\", 4]))\n",
    "print(filter_list([\"A\", 0, \"Edabit\", 1729, \"Python\", \"1729\"]))\n",
    "print(filter_list([\"Nothing\",\"here\"]))"
   ]
  },
  {
   "cell_type": "code",
   "execution_count": null,
   "metadata": {},
   "outputs": [],
   "source": [
    "2.) Given a list of numbers, create a function which returns the list but with each element&#39;s\n",
    "index in the list added to itself. This means you add 0 to the number at index 0, add 1 to the\n",
    "number at index 1, etc...\n",
    "Examples\n",
    "add_indexes([0, 0, 0, 0, 0]) ➞ [0, 1, 2, 3, 4]\n",
    "add_indexes([1, 2, 3, 4, 5]) ➞ [1, 3, 5, 7, 9]\n",
    "add_indexes([5, 4, 3, 2, 1]) ➞ [5, 5, 5, 5, 5]"
   ]
  },
  {
   "cell_type": "code",
   "execution_count": 11,
   "metadata": {},
   "outputs": [
    {
     "name": "stdout",
     "output_type": "stream",
     "text": [
      "[0, 1, 2, 3, 4]\n",
      "[1, 3, 5, 7, 9]\n",
      "[5, 5, 5, 5, 5]\n"
     ]
    }
   ],
   "source": [
    "# program to add index to the element of the list\n",
    "\n",
    "def add_indexes(lst):\n",
    "    temp = []\n",
    "    for i in range(len(lst)):\n",
    "        temp.append(lst[i] + i)\n",
    "    return temp\n",
    "\n",
    "print(add_indexes([0, 0,0, 0, 0]))\n",
    "print(add_indexes([1, 2, 3, 4, 5]))\n",
    "print(add_indexes([5, 4, 3, 2, 1]))"
   ]
  },
  {
   "cell_type": "code",
   "execution_count": null,
   "metadata": {},
   "outputs": [],
   "source": [
    "3.) Create a function that takes the height and radius of a cone as arguments and returns the\n",
    "volume of the cone rounded to the nearest hundredth. See the resources tab for the formula.\n",
    "Examples\n",
    "cone_volume(3, 2) ➞ 12.57\n",
    "cone_volume(15, 6) ➞ 565.49\n",
    "cone_volume(18, 0) ➞ 0"
   ]
  },
  {
   "cell_type": "code",
   "execution_count": 15,
   "metadata": {},
   "outputs": [
    {
     "name": "stdout",
     "output_type": "stream",
     "text": [
      "12.56\n",
      "565.2\n",
      "0.0\n"
     ]
    }
   ],
   "source": [
    "## program to calculate the volume of the cone\n",
    "\n",
    "def cone_volume(h,r):\n",
    "    vol = (3.14)*(r**2)*(h/3)\n",
    "    return vol\n",
    "\n",
    "print(cone_volume(3, 2))\n",
    "print(cone_volume(15, 6))\n",
    "print(cone_volume(18, 0)) "
   ]
  },
  {
   "cell_type": "code",
   "execution_count": null,
   "metadata": {},
   "outputs": [],
   "source": [
    "4.) This Triangular Number Sequence is generated from a pattern of dots that form a triangle.\n",
    "The first 5 numbers of the sequence, or dots, are:\n",
    "1, 3, 6, 10, 15\n",
    "This means that the first triangle has just one dot, the second one has three dots, the third one\n",
    "has 6 dots and so on.\n",
    "Write a function that gives the number of dots with its corresponding triangle number of the\n",
    "sequence.\n",
    "Examples\n",
    "triangle(1) ➞ 1\n",
    "triangle(6) ➞ 21\n",
    "triangle(215) ➞ 23220"
   ]
  },
  {
   "cell_type": "code",
   "execution_count": 18,
   "metadata": {},
   "outputs": [
    {
     "name": "stdout",
     "output_type": "stream",
     "text": [
      "1\n",
      "21\n",
      "23220\n"
     ]
    }
   ],
   "source": [
    "# program to solve the above problems\n",
    "\n",
    "def triangle(tra_num):\n",
    "    return sum([i for i in range(tra_num+1)])\n",
    "\n",
    "print(triangle(1))\n",
    "print(triangle(6))\n",
    "print(triangle(215)) "
   ]
  },
  {
   "cell_type": "code",
   "execution_count": null,
   "metadata": {},
   "outputs": [],
   "source": [
    "5.) Create a function that takes a list of numbers between 1 and 10 (excluding one number) and\n",
    "returns the missing number.\n",
    "Examples\n",
    "missing_num([1, 2, 3, 4, 6, 7, 8, 9, 10]) ➞ 5\n",
    "missing_num([7, 2, 3, 6, 5, 9, 1, 4, 8]) ➞ 10\n",
    "missing_num([10, 5, 1, 2, 4, 6, 8, 3, 9]) ➞ 7"
   ]
  },
  {
   "cell_type": "code",
   "execution_count": 20,
   "metadata": {},
   "outputs": [
    {
     "name": "stdout",
     "output_type": "stream",
     "text": [
      "5\n",
      "10\n",
      "7\n"
     ]
    }
   ],
   "source": [
    "# function to return the missing number of the list\n",
    "\n",
    "def missing_num(lst):\n",
    "    check = [i for i in range(1,11)]\n",
    "    not_found = int\n",
    "    for c in check:\n",
    "        if c not in lst:\n",
    "            not_found = c\n",
    "            break\n",
    "            \n",
    "    return not_found\n",
    "\n",
    "print(missing_num([1, 2, 3, 4, 6, 7, 8, 9, 10]))\n",
    "print(missing_num([7, 2, 3, 6, 5, 9, 1, 4, 8])) \n",
    "print(missing_num([10, 5, 1, 2, 4, 6, 8, 3, 9]))      "
   ]
  },
  {
   "cell_type": "code",
   "execution_count": null,
   "metadata": {},
   "outputs": [],
   "source": []
  }
 ],
 "metadata": {
  "kernelspec": {
   "display_name": "Python 3",
   "language": "python",
   "name": "python3"
  },
  "language_info": {
   "codemirror_mode": {
    "name": "ipython",
    "version": 3
   },
   "file_extension": ".py",
   "mimetype": "text/x-python",
   "name": "python",
   "nbconvert_exporter": "python",
   "pygments_lexer": "ipython3",
   "version": "3.8.5"
  }
 },
 "nbformat": 4,
 "nbformat_minor": 4
}
