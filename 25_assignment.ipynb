{
 "cells": [
  {
   "cell_type": "code",
   "execution_count": null,
   "metadata": {},
   "outputs": [],
   "source": [
    "1.) Create a function that takes three integer arguments (a, b, c) and returns the amount of\n",
    "integers which are of equal value.\n",
    "Examples\n",
    "equal(3, 4, 3) ➞ 2\n",
    "equal(1, 1, 1) ➞ 3\n",
    "equal(3, 4, 1) ➞ 0\n",
    "Notes\n",
    "Your function must return 0, 2 or 3."
   ]
  },
  {
   "cell_type": "code",
   "execution_count": 10,
   "metadata": {},
   "outputs": [
    {
     "name": "stdout",
     "output_type": "stream",
     "text": [
      "2 number of integers are equal\n",
      "3 number of integers are equal\n",
      "0 number of intergers are equal\n"
     ]
    }
   ],
   "source": [
    "# program ot solve above problem\n",
    "\n",
    "def equal(n1,n2,n3):\n",
    "    st = {n1,n2,n3}\n",
    "    \n",
    "    if len(st) == 3:\n",
    "        print('0 number of intergers are equal')\n",
    "    elif len(st) == 2:\n",
    "        print('2 number of integers are equal')\n",
    "    else:\n",
    "        print('3 number of integers are equal')\n",
    "        \n",
    "equal(3, 4, 3)\n",
    "equal(1, 1, 1)\n",
    "equal(3, 4, 1)       \n"
   ]
  },
  {
   "cell_type": "code",
   "execution_count": null,
   "metadata": {},
   "outputs": [],
   "source": [
    "2.) Write a function that converts a dictionary into a list of keys-values tuples.\n",
    "Examples\n",
    "dict_to_list({\"D\": 1,\"B\": 2,\"C\": 3}) \n",
    "➞ [(\"B\", 2), (\"C\", 3), (\"D\", 1)]\n",
    "dict_to_list({\"likes\": 2,\"dislikes\": 3,\"followers\": 10})\n",
    "➞ [(\"dislikes\", 3), (\"followers\", 10), (\"likes\", 2)]\n",
    "Notes\n",
    "Return the elements in the list in alphabetical order."
   ]
  },
  {
   "cell_type": "code",
   "execution_count": 15,
   "metadata": {},
   "outputs": [
    {
     "name": "stdout",
     "output_type": "stream",
     "text": [
      "[('D', 1), ('B', 2), ('C', 3)]\n",
      "[('likes', 2), ('dislikes', 3), ('followers', 10)]\n"
     ]
    }
   ],
   "source": [
    "# program ot convert dictionary into tuples of keys value pairs\n",
    "\n",
    "def dict_to_list(dikt):\n",
    "    print(list(dikt.items()))\n",
    "\n",
    "dict_to_list({\"D\": 1,\"B\": 2,\"C\": 3}) \n",
    "\n",
    "dict_to_list({\"likes\": 2,\"dislikes\": 3,\"followers\": 10})\n"
   ]
  },
  {
   "cell_type": "code",
   "execution_count": null,
   "metadata": {},
   "outputs": [],
   "source": [
    "3.) Write a function that creates a dictionary with each (key, value) pair being the (lower case,\n",
    "upper case) versions of a letter, respectively.\n",
    "Examples\n",
    "mapping([\"p\", \"s\"]) ➞ { \"p\": \"P\", \"s\": \"S\" }\n",
    "mapping([\"a\", \"b\", \"c\"]) ➞ { \"a\": \"A\", \"b\": \"B\", \"c\": \"C\" }\n",
    "mapping([\"a\", \"v\", \"y\", \"z\"]) ➞ { \"a\": \"A\", \"v\": \"V\", \"y\": \"Y\", \"z\": \"Z\" }\n",
    "Notes\n",
    "All of the letters in the input list will always be lowercase."
   ]
  },
  {
   "cell_type": "code",
   "execution_count": 20,
   "metadata": {},
   "outputs": [
    {
     "name": "stdout",
     "output_type": "stream",
     "text": [
      "{'p': 'P', 's': 'S'}\n",
      "{'a': 'A', 'b': 'B', 'c': 'C'}\n",
      "{'a': 'A', 'v': 'V', 'y': 'Y', 'z': 'Z'}\n"
     ]
    }
   ],
   "source": [
    "# progrma to solve above problem statement\n",
    "\n",
    "def mapping(lst):\n",
    "    dikt = {}\n",
    "    for l in lst:\n",
    "        dikt[l] = l.upper()\n",
    "    \n",
    "    print(dikt)\n",
    "\n",
    "mapping([\"p\", \"s\"])\n",
    "mapping([\"a\", \"b\", \"c\"]) \n",
    "mapping([\"a\", \"v\", \"y\", \"z\"])\n"
   ]
  },
  {
   "cell_type": "code",
   "execution_count": null,
   "metadata": {},
   "outputs": [],
   "source": [
    "4.) Write a function, that replaces all vowels in a string with a specified vowel.\n",
    "Examples\n",
    "vow_replace(\"apples and bananas\", \"u\") ➞ \"upplus und bununus\"\n",
    "vow_replace(\"cheese casserole\", \"o\") ➞ \"chooso cossorolo\"\n",
    "vow_replace(\"stuffed jalapeno poppers\", \"e\") ➞ \"steffed jelepene peppers\"\n",
    "Notes\n",
    "All words will be lowercase. Y is not considered a vowel."
   ]
  },
  {
   "cell_type": "code",
   "execution_count": 24,
   "metadata": {},
   "outputs": [
    {
     "name": "stdout",
     "output_type": "stream",
     "text": [
      "upplus und bununus\n",
      "chooso cossorolo\n",
      "steffed jelepene peppers\n"
     ]
    }
   ],
   "source": [
    "# program to solve the above program\n",
    "\n",
    "def vow_replace(string,vow):\n",
    "    string = list(string)\n",
    "    for s in string:\n",
    "        if s in ['a','e','i','o','u']:\n",
    "            string[string.index(s)] = vow\n",
    "            \n",
    "    return ''.join(string)\n",
    "\n",
    "print(vow_replace(\"apples and bananas\", \"u\"))\n",
    "print(vow_replace(\"cheese casserole\", \"o\"))\n",
    "print(vow_replace(\"stuffed jalapeno poppers\", \"e\"))\n"
   ]
  },
  {
   "cell_type": "code",
   "execution_count": null,
   "metadata": {},
   "outputs": [],
   "source": [
    "5.) Create a function that takes a string as input and capitalizes a letter if its ASCII code is even\n",
    "and returns its lower case version if its ASCII code is odd.\n",
    "Examples\n",
    "ascii_capitalize(\"to be or not to be!\") ➞ \"To Be oR NoT To Be!\"\n",
    "ascii_capitalize(\"THE LITTLE MERMAID\") ➞ \"THe LiTTLe meRmaiD\"\n",
    "ascii_capitalize(\"Oh what a beautiful morning.\") ➞ \"oH wHaT a BeauTiFuLmoRNiNg.\""
   ]
  },
  {
   "cell_type": "code",
   "execution_count": 27,
   "metadata": {},
   "outputs": [
    {
     "name": "stdout",
     "output_type": "stream",
     "text": [
      "To Be oR NoT To Be!\n",
      "THe LiTTLe meRmaiD\n",
      "oH wHaT a BeauTiFuL moRNiNg.\n"
     ]
    }
   ],
   "source": [
    "# program to covert it's character case based on ascii\n",
    "\n",
    "def ascii_capitalize(string):\n",
    "    string = list(string)\n",
    "    \n",
    "    for s in range(len(string)):\n",
    "        if ord(string[s])%2 == 0:\n",
    "            string[s] = string[s].upper()\n",
    "        else:\n",
    "            string[s] = string[s].lower()\n",
    "            \n",
    "    print(''.join(string))\n",
    "\n",
    "ascii_capitalize(\"to be or not to be!\")\n",
    "ascii_capitalize(\"THE LITTLE MERMAID\")\n",
    "ascii_capitalize(\"Oh what a beautiful morning.\")"
   ]
  },
  {
   "cell_type": "code",
   "execution_count": null,
   "metadata": {},
   "outputs": [],
   "source": []
  }
 ],
 "metadata": {
  "kernelspec": {
   "display_name": "Python 3",
   "language": "python",
   "name": "python3"
  },
  "language_info": {
   "codemirror_mode": {
    "name": "ipython",
    "version": 3
   },
   "file_extension": ".py",
   "mimetype": "text/x-python",
   "name": "python",
   "nbconvert_exporter": "python",
   "pygments_lexer": "ipython3",
   "version": "3.8.5"
  }
 },
 "nbformat": 4,
 "nbformat_minor": 4
}
