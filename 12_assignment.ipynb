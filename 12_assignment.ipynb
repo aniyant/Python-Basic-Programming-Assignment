{
 "cells": [
  {
   "cell_type": "code",
   "execution_count": null,
   "metadata": {},
   "outputs": [],
   "source": [
    "1.) Write a Python program to Extract Unique values dictionary values?"
   ]
  },
  {
   "cell_type": "code",
   "execution_count": 62,
   "metadata": {},
   "outputs": [
    {
     "name": "stdout",
     "output_type": "stream",
     "text": [
      "{'1': 'sunny', '2': 'kumar', '3': 'april', '4': 'sunny', '5': 'kumar'}\n",
      "unique values of dictionary above are :\n",
      "sunny\n",
      "kumar\n",
      "april\n"
     ]
    }
   ],
   "source": [
    "# program to extract unique values from dictionary\n",
    "\n",
    "data = {\n",
    "    \"1\":\"sunny\",\n",
    "    \"2\":\"kumar\",\n",
    "    \"3\":\"april\",\n",
    "    \"4\":'sunny',\n",
    "    \"5\":\"kumar\"\n",
    "}\n",
    "print(data)\n",
    "uni = set(data.values())\n",
    "print(\"unique values of dictionary above are :\")\n",
    "for u in uni:\n",
    "    print(u)"
   ]
  },
  {
   "cell_type": "code",
   "execution_count": null,
   "metadata": {},
   "outputs": [],
   "source": [
    "2.) Write a Python program to find the sum of all items in a dictionary?"
   ]
  },
  {
   "cell_type": "code",
   "execution_count": 61,
   "metadata": {},
   "outputs": [
    {
     "name": "stdout",
     "output_type": "stream",
     "text": [
      "Sum : 600\n"
     ]
    }
   ],
   "source": [
    "# program to sum all items in a Dictionary\n",
    "\n",
    "def sum_dict(dict):\n",
    "\n",
    "\tlist = []\n",
    "\tfor i in dict:\n",
    "\t\tlist.append(dict[i])\n",
    "\tfinal = sum(list)\n",
    "\n",
    "\treturn final\n",
    "\n",
    "\n",
    "dict = {'a': 100, 'b': 200, 'c': 300}\n",
    "print(\"Sum :\", sum_dict(dict))\n"
   ]
  },
  {
   "cell_type": "code",
   "execution_count": null,
   "metadata": {},
   "outputs": [],
   "source": [
    "3.) Write a Python program to Merging two Dictionaries?"
   ]
  },
  {
   "cell_type": "code",
   "execution_count": 60,
   "metadata": {},
   "outputs": [
    {
     "name": "stdout",
     "output_type": "stream",
     "text": [
      "merged dictionary :\n",
      "{1: 'hello', 2: 'world', 3: 'sunny', 4: 'kumar'}\n"
     ]
    }
   ],
   "source": [
    "# program to merge two dictionary\n",
    "\n",
    "def merge_dict(dict1,dict2):\n",
    "    dict1.update(dict2)\n",
    "    return dict1\n",
    "\n",
    "dict1 = {1:'hello',2:'world'}\n",
    "dict2 = {3:'sunny',4:'kumar'}\n",
    "\n",
    "print(\"merged dictionary :\")\n",
    "\n",
    "print(merge_dict(dict1,dict2))\n"
   ]
  },
  {
   "cell_type": "markdown",
   "metadata": {},
   "source": [
    "4.) Write a Python program to convert key-values list to flat dictionary?"
   ]
  },
  {
   "cell_type": "code",
   "execution_count": 32,
   "metadata": {},
   "outputs": [
    {
     "name": "stdout",
     "output_type": "stream",
     "text": [
      "The original dictionary is : {'month': [1, 2, 3], 'name': ['Jan', 'Feb', 'March']}\n",
      "[(1, 'Jan'), (2, 'Feb'), (3, 'March')]\n",
      "Flattened dictionary :  {1: 'Jan', 2: 'Feb', 3: 'March'}\n"
     ]
    }
   ],
   "source": [
    "# program to convert key-values list to flat dictionary\n",
    "\n",
    "# dictionary\n",
    "test_dict = {'month' : [1, 2, 3],\n",
    "\t\t\t'name' : ['Jan', 'Feb', 'March']}\n",
    "\n",
    "# dictionary\n",
    "print(\"The original dictionary is : \" + str(test_dict))\n",
    "\n",
    "# convert key-values list to flat dictionary\n",
    "# Using dict() + zip()\n",
    "res = list(zip(test_dict['month'], test_dict['name']))\n",
    "print(res)\n",
    "dt = {}\n",
    "for r in res:\n",
    "    dt[r[0]] = r[1]\n",
    "\n",
    "# printing result\n",
    "print(\"Flattened dictionary : \", dt)\n"
   ]
  },
  {
   "cell_type": "code",
   "execution_count": null,
   "metadata": {},
   "outputs": [],
   "source": [
    "5.) Write a Python program to insertion at the beginning in OrderedDict?"
   ]
  },
  {
   "cell_type": "code",
   "execution_count": 39,
   "metadata": {},
   "outputs": [
    {
     "name": "stdout",
     "output_type": "stream",
     "text": [
      "Original dict : OrderedDict([('akshat', '1'), ('nikhil', '2')])\n",
      "After Insertion Dict :  OrderedDict([('manjeet', '3'), ('akshat', '1'), ('nikhil', '2')])\n"
     ]
    }
   ],
   "source": [
    "# program to insertion at the beginning of ordered dict\n",
    "from collections import OrderedDict\n",
    "\n",
    "# initialising ordered_dict\n",
    "dt = OrderedDict([('akshat', '1'), ('nikhil', '2')])\n",
    "\n",
    "print(\"Original dict :\",dt)\n",
    "# inserting items in starting of dict\n",
    "dt.update({'manjeet':'3'})\n",
    "dt.move_to_end('manjeet', last = False)\n",
    "\n",
    "# print result\n",
    "print (\"After Insertion Dict : \",dt)\n"
   ]
  },
  {
   "cell_type": "code",
   "execution_count": null,
   "metadata": {},
   "outputs": [],
   "source": [
    "6.) Write a Python program to check order of character in string using OrderedDict()?"
   ]
  },
  {
   "cell_type": "code",
   "execution_count": 41,
   "metadata": {},
   "outputs": [
    {
     "name": "stdout",
     "output_type": "stream",
     "text": [
      "order is  true\n"
     ]
    }
   ],
   "source": [
    "# program to check order of character in string using OrderedDict\n",
    "\n",
    "from collections import OrderedDict\n",
    "\n",
    "def checkOrder(input, pattern):\n",
    "\t\n",
    "\t# create empty OrderedDict\n",
    "\t# output will be like {'a': None,'b': None, 'c': None}\n",
    "\tdict = OrderedDict.fromkeys(input)\n",
    "\n",
    "\t# traverse generated OrderedDict parallel with\n",
    "\t# pattern string to check if order of characters\n",
    "\t# are same or no\n",
    "\tptrlen = 0\n",
    "\tfor key,value in dict.items():\n",
    "\t\tif (key == pattern[ptrlen]):\n",
    "\t\t\tptrlen = ptrlen + 1\n",
    "\t\t\n",
    "\t\t# check if we have traverse complete\n",
    "\t\t# pattern string\n",
    "\t\tif (ptrlen == (len(pattern))):\n",
    "\t\t\treturn 'true'\n",
    "\n",
    "\t# if we come out from for loop that means\n",
    "\t# order was mismatched\n",
    "\treturn 'false'\n",
    "\n",
    "\n",
    "input = 'engineers rock'\n",
    "pattern = 'egr'\n",
    "print (\"order is \",checkOrder(input,pattern))\n"
   ]
  },
  {
   "cell_type": "code",
   "execution_count": null,
   "metadata": {},
   "outputs": [],
   "source": [
    "7.) Write a Python program to sort Python Dictionaries by Key or Value?"
   ]
  },
  {
   "cell_type": "code",
   "execution_count": 57,
   "metadata": {},
   "outputs": [
    {
     "name": "stdout",
     "output_type": "stream",
     "text": [
      "before sort :\n",
      "{'name': 'sunny', 'title': 'kumar', 'age': 25, 'edu': 'bca'}\n",
      "after sorting by keys :\n",
      "{'age': 25, 'edu': 'bca', 'name': 'sunny', 'title': 'kumar'}\n"
     ]
    }
   ],
   "source": [
    "# program to sort python dictionary by key or value\n",
    "\n",
    "# function which sort by keys\n",
    "def sort_keys(dict):\n",
    "    \n",
    "    # list to extract put all extracted keys from dict\n",
    "    keys = []\n",
    "    \n",
    "    for d in dict.keys():\n",
    "        keys.append(d)\n",
    "    \n",
    "    # sorting keys\n",
    "    keys.sort()\n",
    "    # creating copy of original dict \n",
    "    temp = dt.copy()\n",
    "    \n",
    "    # clearing original dict\n",
    "    dt.clear()\n",
    "    \n",
    "    # agian adding values according to sorted keys in dict\n",
    "    for k in keys:\n",
    "        dt[k] = temp[k]\n",
    "    \n",
    "    return None\n",
    "\n",
    "dt = {'name':\"sunny\",\"title\":'kumar','age':25,'edu':'bca'}\n",
    "\n",
    "print(\"before sort :\")\n",
    "print(dt)\n",
    "\n",
    "# calling sorting function\n",
    "sort_keys(dt)\n",
    "print(\"after sorting by keys :\")\n",
    "print(dt)"
   ]
  },
  {
   "cell_type": "code",
   "execution_count": null,
   "metadata": {},
   "outputs": [],
   "source": []
  }
 ],
 "metadata": {
  "kernelspec": {
   "display_name": "Python 3",
   "language": "python",
   "name": "python3"
  },
  "language_info": {
   "codemirror_mode": {
    "name": "ipython",
    "version": 3
   },
   "file_extension": ".py",
   "mimetype": "text/x-python",
   "name": "python",
   "nbconvert_exporter": "python",
   "pygments_lexer": "ipython3",
   "version": "3.8.5"
  }
 },
 "nbformat": 4,
 "nbformat_minor": 4
}
