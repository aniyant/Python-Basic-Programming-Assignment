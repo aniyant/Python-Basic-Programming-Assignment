{
 "cells": [
  {
   "cell_type": "markdown",
   "metadata": {},
   "source": [
    "1.) Write a python program to convert kilometers to miles?"
   ]
  },
  {
   "cell_type": "code",
   "execution_count": 5,
   "metadata": {},
   "outputs": [
    {
     "name": "stdin",
     "output_type": "stream",
     "text": [
      "Enter the km = 'hello\n"
     ]
    },
    {
     "name": "stdout",
     "output_type": "stream",
     "text": [
      "plz input numbers only\n"
     ]
    },
    {
     "name": "stdin",
     "output_type": "stream",
     "text": [
      "Enter the km = 85\n"
     ]
    },
    {
     "name": "stdout",
     "output_type": "stream",
     "text": [
      "85 km is equal to 52.785 miles\n"
     ]
    }
   ],
   "source": [
    "# program to convert kilometers into miles\n",
    "# function miles\n",
    "def miles():\n",
    "    km = \"\"\n",
    "    while type(km) != int:\n",
    "        try:\n",
    "            km = int(input(\"Enter the km =\"))\n",
    "        except:\n",
    "            print(\"plz input numbers only\")\n",
    "            \n",
    "    miles= 0.621 * km  # 1 kilometer = o.621 miles\n",
    "    print(f\"{km} km is equal to {miles} miles\")\n",
    "\n",
    "# Calling function\n",
    "miles()\n",
    "    "
   ]
  },
  {
   "cell_type": "markdown",
   "metadata": {},
   "source": [
    "2.) Write a python program to convert Celsius to Fahrenheit?"
   ]
  },
  {
   "cell_type": "code",
   "execution_count": 6,
   "metadata": {},
   "outputs": [
    {
     "name": "stdin",
     "output_type": "stream",
     "text": [
      "Enter Celcius = jlk\n"
     ]
    },
    {
     "name": "stdout",
     "output_type": "stream",
     "text": [
      "plz input numbers only\n"
     ]
    },
    {
     "name": "stdin",
     "output_type": "stream",
     "text": [
      "Enter Celcius = 85\n"
     ]
    },
    {
     "name": "stdout",
     "output_type": "stream",
     "text": [
      "85 celcius is equal to 185.0 fahrenheit\n"
     ]
    }
   ],
   "source": [
    "# program to convert celcius into fahrenheit\n",
    "def fah():\n",
    "    while True:\n",
    "        try:\n",
    "            cel = int(input(\"Enter Celcius =\"))\n",
    "        except:\n",
    "            print(\"plz input numbers only\")\n",
    "        else:\n",
    "            break\n",
    "            \n",
    "    fahr = (cel * 9/5) + 32  # 1 F = (°C × 9/5) + 32\n",
    "    print(f\"{cel} celcius is equal to {fahr} fahrenheit\")\n",
    "\n",
    "# Calling function\n",
    "fah()\n"
   ]
  },
  {
   "cell_type": "markdown",
   "metadata": {},
   "source": [
    "3.) Write a python program to display calendar ?"
   ]
  },
  {
   "cell_type": "code",
   "execution_count": 7,
   "metadata": {},
   "outputs": [
    {
     "name": "stdout",
     "output_type": "stream",
     "text": [
      "Enter year = "
     ]
    },
    {
     "name": "stdin",
     "output_type": "stream",
     "text": [
      " jlk\n"
     ]
    },
    {
     "name": "stdout",
     "output_type": "stream",
     "text": [
      "'jlk' is not a number.\n",
      "Enter year = "
     ]
    },
    {
     "name": "stdin",
     "output_type": "stream",
     "text": [
      " 2050\n"
     ]
    },
    {
     "name": "stdout",
     "output_type": "stream",
     "text": [
      "Enter month ="
     ]
    },
    {
     "name": "stdin",
     "output_type": "stream",
     "text": [
      " 56\n"
     ]
    },
    {
     "name": "stdout",
     "output_type": "stream",
     "text": [
      "Number must be at maximum 12.\n",
      "Enter month ="
     ]
    },
    {
     "name": "stdin",
     "output_type": "stream",
     "text": [
      " 10\n"
     ]
    },
    {
     "name": "stdout",
     "output_type": "stream",
     "text": [
      "    October 2050\n",
      "Mo Tu We Th Fr Sa Su\n",
      "                1  2\n",
      " 3  4  5  6  7  8  9\n",
      "10 11 12 13 14 15 16\n",
      "17 18 19 20 21 22 23\n",
      "24 25 26 27 28 29 30\n",
      "31\n",
      "\n"
     ]
    }
   ],
   "source": [
    "# python program to print calendar for given month and year\n",
    "import calendar\n",
    "import pyinputplus as pin\n",
    "\n",
    "# Taking year and month from user\n",
    "year = pin.inputNum(prompt=\"Enter year = \",min=0,max=5000)\n",
    "month = pin.inputNum(prompt=\"Enter month =\",min = 0, max=12)\n",
    "\n",
    "# print calender\n",
    "print(calendar.month(year,month))"
   ]
  },
  {
   "cell_type": "markdown",
   "metadata": {},
   "source": [
    "4.) Write a python to solve quadratic equation ?"
   ]
  },
  {
   "cell_type": "code",
   "execution_count": 8,
   "metadata": {},
   "outputs": [
    {
     "name": "stdout",
     "output_type": "stream",
     "text": [
      "Enter coefficient of x2 = "
     ]
    },
    {
     "name": "stdin",
     "output_type": "stream",
     "text": [
      " 85\n"
     ]
    },
    {
     "name": "stdout",
     "output_type": "stream",
     "text": [
      "Enter coefficient of x = "
     ]
    },
    {
     "name": "stdin",
     "output_type": "stream",
     "text": [
      " 65\n"
     ]
    },
    {
     "name": "stdout",
     "output_type": "stream",
     "text": [
      "Enter value of c = "
     ]
    },
    {
     "name": "stdin",
     "output_type": "stream",
     "text": [
      " 30\n"
     ]
    },
    {
     "name": "stdout",
     "output_type": "stream",
     "text": [
      "Complex Roots are as below :\n",
      "-0.38235294117647056  + i 77.29812416870153\n",
      "-0.38235294117647056  - i 77.29812416870153\n"
     ]
    }
   ],
   "source": [
    "# Python program to find roots of quadratic equation\n",
    "import math \n",
    "from pyinputplus import inputNum\n",
    "  \n",
    "def roots( a, b, c): \n",
    "  \n",
    "    # calculating discriminant using formula d = b2 -4ac\n",
    "    d = b * b - 4 * a * c \n",
    "    sqrt_val = math.sqrt(abs(d)) \n",
    "      \n",
    "    # checking condition for discriminant\n",
    "    if d > 0: \n",
    "        print(\"Real and different roots are below :\") \n",
    "        print((-b + sqrt_val)/(2 * a)) \n",
    "        print((-b - sqrt_val)/(2 * a)) \n",
    "      \n",
    "    elif d == 0: \n",
    "        print(\"Real and same roots are follow :\") \n",
    "        print(-b / (2 * a)) \n",
    "      \n",
    "    # when discriminant is less than 0\n",
    "    else:\n",
    "        print(\"Complex Roots are as below :\") \n",
    "        print(- b / (2 * a), \" + i\", sqrt_val) \n",
    "        print(- b / (2 * a), \" - i\", sqrt_val) \n",
    "\n",
    "# Taking values of a, b, and c  from user \n",
    "a = inputNum(prompt=\"Enter coefficient of x2 = \")\n",
    "b = inputNum(prompt=\"Enter coefficient of x = \")\n",
    "c = inputNum(prompt=\"Enter value of c = \")\n",
    "\n",
    "# calling roots function\n",
    "roots(a,b,c)"
   ]
  },
  {
   "cell_type": "markdown",
   "metadata": {},
   "source": [
    "5.) Write a Python program to swap two variables without temp variable?"
   ]
  },
  {
   "cell_type": "code",
   "execution_count": 9,
   "metadata": {},
   "outputs": [
    {
     "name": "stdout",
     "output_type": "stream",
     "text": [
      "Before swapping variables\n",
      "\n",
      "var1 contains hello\n",
      "var2 containse python\n",
      "\n",
      "\n",
      "NOW AFTER SWAPPING Variables\n",
      "\n",
      "var1 contains python\n",
      "var2 containse hello\n"
     ]
    }
   ],
   "source": [
    "# Program to swap two variables\n",
    "\n",
    "# Two variabels \n",
    "var1 = 'hello'\n",
    "var2 = \"python\"\n",
    "\n",
    "print(\"Before swapping variables\\n\")\n",
    "print(f\"var1 contains {var1}\")\n",
    "print(f'var2 containse {var2}\\n\\n')\n",
    "\n",
    "# here we are swapping var1 with value of var2 and vice verse\n",
    "var1,var2 = var2,var1\n",
    "\n",
    "print('NOW AFTER SWAPPING Variables\\n')\n",
    "print(f\"var1 contains {var1}\")\n",
    "print(f'var2 containse {var2}')\n"
   ]
  },
  {
   "cell_type": "code",
   "execution_count": null,
   "metadata": {},
   "outputs": [],
   "source": []
  }
 ],
 "metadata": {
  "kernelspec": {
   "display_name": "Python 3",
   "language": "python",
   "name": "python3"
  },
  "language_info": {
   "codemirror_mode": {
    "name": "ipython",
    "version": 3
   },
   "file_extension": ".py",
   "mimetype": "text/x-python",
   "name": "python",
   "nbconvert_exporter": "python",
   "pygments_lexer": "ipython3",
   "version": "3.8.5"
  }
 },
 "nbformat": 4,
 "nbformat_minor": 4
}
