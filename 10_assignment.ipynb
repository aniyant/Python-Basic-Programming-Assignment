{
 "cells": [
  {
   "cell_type": "code",
   "execution_count": null,
   "metadata": {},
   "outputs": [],
   "source": [
    "1.) Write a Python program to find sum of elements in list?"
   ]
  },
  {
   "cell_type": "code",
   "execution_count": 3,
   "metadata": {},
   "outputs": [
    {
     "name": "stdout",
     "output_type": "stream",
     "text": [
      "sum of elements of list are  20\n"
     ]
    }
   ],
   "source": [
    "# program to find sum of elements in list\n",
    "\n",
    "# function which will return sum of elements of list\n",
    "def sum_of_list(lst):\n",
    "    for i in lst:\n",
    "        if type(i) != int:\n",
    "            raise Exception(\"found other than type int elements !\")\n",
    "    return sum(lst)\n",
    "\n",
    "lst = [1,2,3,4,10]\n",
    "\n",
    "# printing the sum of list\n",
    "print('sum of elements of list are ',sum_of_list(lst))"
   ]
  },
  {
   "cell_type": "code",
   "execution_count": null,
   "metadata": {},
   "outputs": [],
   "source": [
    "2.) Write a Python program to Multiply all numbers in the list?"
   ]
  },
  {
   "cell_type": "code",
   "execution_count": 71,
   "metadata": {},
   "outputs": [
    {
     "name": "stdout",
     "output_type": "stream",
     "text": [
      "[1, 2, 3, 4, 10]\n",
      "sum of elements of list are  240\n"
     ]
    }
   ],
   "source": [
    "# program to find multiplication of elements in list\n",
    "\n",
    "# function which will return multiplication of elements of list\n",
    "def mul_of_list(lst):\n",
    "    mul = 1\n",
    "    for i in lst:\n",
    "        if type(i) != int:\n",
    "            raise Exception(\"found other than type int elements !\")\n",
    "        else:\n",
    "            mul = mul * i\n",
    "    return mul\n",
    "\n",
    "lst = [1,2,3,4,10]\n",
    "\n",
    "# printing multiplication of the lst\n",
    "print(lst)\n",
    "print('sum of elements of list are ',mul_of_list(lst))"
   ]
  },
  {
   "cell_type": "code",
   "execution_count": null,
   "metadata": {},
   "outputs": [],
   "source": [
    "3.) Write a Python program to find smallest number in a list?"
   ]
  },
  {
   "cell_type": "code",
   "execution_count": 70,
   "metadata": {},
   "outputs": [
    {
     "name": "stdout",
     "output_type": "stream",
     "text": [
      "[4, 6, 2, 6, 9]\n",
      "Smallest number in the list is  2\n"
     ]
    }
   ],
   "source": [
    "# program to find smallest number in a list\n",
    "\n",
    "# function to check smallest number in list\n",
    "def smallest(lst):\n",
    "    smallest = lst[0]\n",
    "    for i in lst:\n",
    "        if i < smallest:\n",
    "            smallest = i\n",
    "    return smallest\n",
    "\n",
    "lst = [4,6,2,6,9]\n",
    "\n",
    "# printing the smallest number\n",
    "print(lst)\n",
    "print('Smallest number in the list is ',smallest(lst))"
   ]
  },
  {
   "cell_type": "code",
   "execution_count": null,
   "metadata": {},
   "outputs": [],
   "source": [
    "4.) Write a Python program to find largest number in a list?"
   ]
  },
  {
   "cell_type": "code",
   "execution_count": 69,
   "metadata": {},
   "outputs": [
    {
     "name": "stdout",
     "output_type": "stream",
     "text": [
      "[4, 6, 2, 6, 9]\n",
      "largest number in the list is  9\n"
     ]
    }
   ],
   "source": [
    "# program to find largest number in a list\n",
    "\n",
    "# function to check largest number in list\n",
    "def largest(lst):\n",
    "    largest = lst[0]\n",
    "    for i in lst:\n",
    "        if i > largest:\n",
    "            largest = i\n",
    "    return largest\n",
    "\n",
    "lst = [4,6,2,6,9]\n",
    "\n",
    "# printing the smallest number\n",
    "print(lst)\n",
    "print('largest number in the list is ',largest(lst))"
   ]
  },
  {
   "cell_type": "code",
   "execution_count": null,
   "metadata": {},
   "outputs": [],
   "source": [
    "5.) Write a Python program to find second largest number in a list?"
   ]
  },
  {
   "cell_type": "code",
   "execution_count": 68,
   "metadata": {},
   "outputs": [
    {
     "name": "stdout",
     "output_type": "stream",
     "text": [
      "[4, 6, 2, 6, 9]\n",
      "2nd largest number in the list is  6\n"
     ]
    }
   ],
   "source": [
    "# program to find largest number in a list\n",
    "\n",
    "# function to check largest number in list\n",
    "def largest(lst):\n",
    "    largest = lst[0]\n",
    "    for i in lst:\n",
    "        if i > largest:\n",
    "            largest = i\n",
    "    return largest\n",
    "\n",
    "def second_largest(lst):\n",
    "    temp = lst\n",
    "    temp.remove(largest(lst))\n",
    "    return largest(temp)\n",
    "\n",
    "lst = [4,6,2,6,9]\n",
    "\n",
    "# printing the smallest number\n",
    "print(lst)\n",
    "print('2nd largest number in the list is ',second_largest(lst))"
   ]
  },
  {
   "cell_type": "code",
   "execution_count": null,
   "metadata": {},
   "outputs": [],
   "source": [
    "6.) Write a Python program to find N largest elements from a list?"
   ]
  },
  {
   "cell_type": "code",
   "execution_count": 40,
   "metadata": {},
   "outputs": [
    {
     "name": "stdout",
     "output_type": "stream",
     "text": [
      "[3, 5, 6, 1, 2, 8, 9, 23, 3, 11]\n",
      "5 largest number in above list are in list :  [23, 11, 9, 8, 6]\n"
     ]
    }
   ],
   "source": [
    "# program to find the N largest elements in a list\n",
    "\n",
    "def largest(lst):\n",
    "    largest = lst[0]\n",
    "    for i in lst:\n",
    "        if i > largest:\n",
    "            largest = i\n",
    "    return largest\n",
    "\n",
    "def N_largest(lst,n):\n",
    "    if len(lst) < n:\n",
    "        raise Exception(\"n must not be less than length of list\")\n",
    "    temp = []\n",
    "    l = int\n",
    "    for i in range(n):\n",
    "        l = largest(lst)\n",
    "        temp.append(l)\n",
    "        lst.remove(l)\n",
    "    \n",
    "    return temp\n",
    "        \n",
    "lst = [3,5,6,1,2,8,9,23,3,11]\n",
    "\n",
    "print(lst)\n",
    "print(\"5 largest number in above list are in list : \",N_largest(lst,5))\n",
    "      \n",
    "    "
   ]
  },
  {
   "cell_type": "code",
   "execution_count": null,
   "metadata": {},
   "outputs": [],
   "source": [
    "7.) Write a Python program to print even numbers in a list?"
   ]
  },
  {
   "cell_type": "code",
   "execution_count": 41,
   "metadata": {},
   "outputs": [
    {
     "name": "stdout",
     "output_type": "stream",
     "text": [
      "2 is a even number\n",
      "4 is a even number\n",
      "6 is a even number\n",
      "8 is a even number\n",
      "14 is a even number\n"
     ]
    }
   ],
   "source": [
    "# program to print even numbers in a list\n",
    "\n",
    "def even(lst):\n",
    "    for i in lst:\n",
    "        if i%2 == 0:\n",
    "            print(i,\"is a even number\")\n",
    "            \n",
    "lst = [2,4,5,6,7,8,9,14]\n",
    "\n",
    "even(lst)"
   ]
  },
  {
   "cell_type": "code",
   "execution_count": null,
   "metadata": {},
   "outputs": [],
   "source": [
    "8.) Write a Python program to print odd numbers in a List?"
   ]
  },
  {
   "cell_type": "code",
   "execution_count": 42,
   "metadata": {},
   "outputs": [
    {
     "name": "stdout",
     "output_type": "stream",
     "text": [
      "5 is a odd number\n",
      "7 is a odd number\n",
      "9 is a odd number\n"
     ]
    }
   ],
   "source": [
    "# program to print odd numbers in a list\n",
    "\n",
    "def odd(lst):\n",
    "    for i in lst:\n",
    "        if i%2 == 1:\n",
    "            print(i,\"is a odd number\")\n",
    "            \n",
    "lst = [2,4,5,6,7,8,9,14]\n",
    "\n",
    "odd(lst)"
   ]
  },
  {
   "cell_type": "code",
   "execution_count": null,
   "metadata": {},
   "outputs": [],
   "source": [
    "9.) Write a Python program to Remove empty List from List?"
   ]
  },
  {
   "cell_type": "code",
   "execution_count": 46,
   "metadata": {},
   "outputs": [
    {
     "name": "stdout",
     "output_type": "stream",
     "text": [
      "after removing empty list : [2, 3, [3], 6, '66', 'fd']\n"
     ]
    }
   ],
   "source": [
    "# program to remove empty list from list\n",
    "\n",
    "def rem_empty(lst):\n",
    "    for i in lst:\n",
    "        if type(i) == list:\n",
    "            if len(i) == 0:\n",
    "                lst.remove(i)\n",
    "    return lst\n",
    "\n",
    "lst = [2,3,[3,],[],6,'66',[],'fd',[]]\n",
    "\n",
    "print(\"after removing empty list :\",rem_empty(lst))"
   ]
  },
  {
   "cell_type": "code",
   "execution_count": null,
   "metadata": {},
   "outputs": [],
   "source": [
    "10.) Write a Python program to Cloning or Copying a list?"
   ]
  },
  {
   "cell_type": "code",
   "execution_count": 61,
   "metadata": {},
   "outputs": [
    {
     "name": "stdout",
     "output_type": "stream",
     "text": [
      "clone of lst :  [4, 6, 6, 7, 8, 9]\n"
     ]
    }
   ],
   "source": [
    "# prgram to copy a list\\\n",
    "\n",
    "def clone(lst):\n",
    "    l = lst[0:]\n",
    "    return l\n",
    "lst = [4,6,6,7,8,9]\n",
    "\n",
    "print(\"clone of lst : \",clone(lst))"
   ]
  },
  {
   "cell_type": "code",
   "execution_count": 54,
   "metadata": {},
   "outputs": [],
   "source": [
    "11.) Write a Python program to Count occurrences of an element in a list?"
   ]
  },
  {
   "cell_type": "code",
   "execution_count": 67,
   "metadata": {},
   "outputs": [
    {
     "name": "stdout",
     "output_type": "stream",
     "text": [
      "[3, 3, 5, 6, 7, 8, 9, 7, 7, 3, 5]\n",
      "7 occurs 3 number of times in list\n"
     ]
    }
   ],
   "source": [
    "# program to count occurences of the element in a list\n",
    "\n",
    "def occur(lst,el):\n",
    "    count = 0\n",
    "    for i in lst:\n",
    "        if i == el:\n",
    "            count += 1\n",
    "    return count\n",
    "\n",
    "lst = [3,3,5,6,7,8,9,7,7,3,5]\n",
    "\n",
    "print(lst)\n",
    "print(\"7 occurs\",occur(lst,7),\"number of times in list\")"
   ]
  },
  {
   "cell_type": "code",
   "execution_count": null,
   "metadata": {},
   "outputs": [],
   "source": []
  }
 ],
 "metadata": {
  "kernelspec": {
   "display_name": "Python 3",
   "language": "python",
   "name": "python3"
  },
  "language_info": {
   "codemirror_mode": {
    "name": "ipython",
    "version": 3
   },
   "file_extension": ".py",
   "mimetype": "text/x-python",
   "name": "python",
   "nbconvert_exporter": "python",
   "pygments_lexer": "ipython3",
   "version": "3.8.5"
  }
 },
 "nbformat": 4,
 "nbformat_minor": 4
}
