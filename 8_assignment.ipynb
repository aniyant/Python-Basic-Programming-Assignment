{
 "cells": [
  {
   "cell_type": "code",
   "execution_count": null,
   "metadata": {},
   "outputs": [],
   "source": [
    "1.) Write a Python Program to Add Two Matrices?"
   ]
  },
  {
   "cell_type": "code",
   "execution_count": 1,
   "metadata": {},
   "outputs": [
    {
     "name": "stdout",
     "output_type": "stream",
     "text": [
      "After Addition =  [[12, 14, 16, 18], [19, 21, 23, 25], [25, 27, 29, 31]]\n"
     ]
    }
   ],
   "source": [
    "# program to add two matrices\n",
    "\n",
    "mat1 = [\n",
    "    [1,2,3,4],\n",
    "    [4,5,6,7],\n",
    "    [7,8,9,10]\n",
    "] \n",
    "\n",
    "mat2 = [\n",
    "    [11,12,13,14],\n",
    "    [15,16,17,18],\n",
    "    [18,19,20,21]\n",
    "]\n",
    "\n",
    "result = [\n",
    "    [0,0,0,0],\n",
    "    [0,0,0,0],\n",
    "    [0,0,0,0]\n",
    "]\n",
    "\n",
    "\n",
    "# function to add two matrices\n",
    "def mat_add(mat1,mat2):\n",
    "    for i in range(len(mat1)):\n",
    "        for j in range(len(mat1[i])):\n",
    "            \n",
    "            # Adding both matrices and inserting the sum into result\n",
    "            result[i][j] = mat1[i][j] + mat2[i][j]\n",
    "    \n",
    "    # return the matrices        \n",
    "    return result\n",
    "\n",
    "print(\"After Addition = \",mat_add(mat1,mat2)) \n",
    "\n",
    "    \n",
    "            "
   ]
  },
  {
   "cell_type": "code",
   "execution_count": null,
   "metadata": {},
   "outputs": [],
   "source": [
    "2.) Write a Python Program to Multiply Two Matrices?"
   ]
  },
  {
   "cell_type": "code",
   "execution_count": 2,
   "metadata": {},
   "outputs": [
    {
     "name": "stdout",
     "output_type": "stream",
     "text": [
      "After multiplication =  [[11, 24, 39, 56], [60, 80, 102, 126], [126, 152, 180, 210]]\n"
     ]
    }
   ],
   "source": [
    "# program to product two matrices\n",
    "\n",
    "mat1 = [\n",
    "    [1,2,3,4],\n",
    "    [4,5,6,7],\n",
    "    [7,8,9,10]\n",
    "] \n",
    "\n",
    "mat2 = [\n",
    "    [11,12,13,14],\n",
    "    [15,16,17,18],\n",
    "    [18,19,20,21]\n",
    "]\n",
    "\n",
    "result = [\n",
    "    [0,0,0,0],\n",
    "    [0,0,0,0],\n",
    "    [0,0,0,0]\n",
    "]\n",
    "\n",
    "\n",
    "# function to mulytipl two matrices\n",
    "def mat_add(mat1,mat2):\n",
    "    for i in range(len(mat1)):\n",
    "        for j in range(len(mat1[i])):\n",
    "            \n",
    "            # product of both matrices \n",
    "            result[i][j] = mat1[i][j] * mat2[i][j]\n",
    "    \n",
    "    # return the matrices        \n",
    "    return result\n",
    "\n",
    "print(\"After multiplication = \",mat_add(mat1,mat2)) \n",
    "\n",
    "    \n",
    "            "
   ]
  },
  {
   "cell_type": "code",
   "execution_count": null,
   "metadata": {},
   "outputs": [],
   "source": [
    "3.) Write a Python Program to Transpose a Matrix?"
   ]
  },
  {
   "cell_type": "code",
   "execution_count": 5,
   "metadata": {},
   "outputs": [
    {
     "name": "stdout",
     "output_type": "stream",
     "text": [
      "Transpose matrice : [[12, 4, 3], [7, 5, 8]]\n"
     ]
    }
   ],
   "source": [
    "# Program to transpose a matrix \n",
    "\n",
    "X = [[12,7],\n",
    "    [4 ,5],\n",
    "    [3 ,8]]\n",
    "\n",
    "# transposing the matrix in list comprehension\n",
    "result = [[X[j][i] for j in range(len(X))] for i in range(len(X[0]))]\n",
    "\n",
    "print(\"Transpose matrice :\",result)"
   ]
  },
  {
   "cell_type": "code",
   "execution_count": null,
   "metadata": {},
   "outputs": [],
   "source": [
    "4.) Write a Python Program to Sort Words in Alphabetic Order?"
   ]
  },
  {
   "cell_type": "code",
   "execution_count": 6,
   "metadata": {},
   "outputs": [
    {
     "name": "stdout",
     "output_type": "stream",
     "text": [
      "The sorted words are:\n",
      "and\n",
      "are\n",
      "doing\n",
      "how\n",
      "in\n",
      "is\n",
      "kumar\n",
      "life\n",
      "sir.\n",
      "sunny\n",
      "this\n",
      "you\n"
     ]
    }
   ],
   "source": [
    "# Program to sort words alphabetically \n",
    "\n",
    "my_str = \"This is sunny kumar and how you are doing in life sir.\"\n",
    "\n",
    "\n",
    "# breakdown the string into a list of words\n",
    "words = [word.lower() for word in my_str.split()]\n",
    "\n",
    "# sort the list\n",
    "words.sort()\n",
    "\n",
    "# display the sorted words\n",
    "\n",
    "print(\"The sorted words are:\")\n",
    "for word in words:\n",
    "   print(word)"
   ]
  },
  {
   "cell_type": "code",
   "execution_count": null,
   "metadata": {},
   "outputs": [],
   "source": [
    "5.) Write a Python Program to Remove Punctuation From a String?"
   ]
  },
  {
   "cell_type": "code",
   "execution_count": 7,
   "metadata": {},
   "outputs": [
    {
     "name": "stdout",
     "output_type": "stream",
     "text": [
      "After punctuation removed : \n",
      "This is sunny kumar and how you are doing in life sir. \n"
     ]
    }
   ],
   "source": [
    "# program to remove punctuation from a string\n",
    "\n",
    "string = \"This is sunny, kumar and, how you are doing, in life sir., \"\n",
    "\n",
    "# splitting the string\n",
    "words = string.split(',')\n",
    "\n",
    "# joining and printing the sentence\n",
    "print(\"After punctuation removed : \")\n",
    "print(''.join(words))"
   ]
  },
  {
   "cell_type": "code",
   "execution_count": null,
   "metadata": {},
   "outputs": [],
   "source": []
  }
 ],
 "metadata": {
  "kernelspec": {
   "display_name": "Python 3",
   "language": "python",
   "name": "python3"
  },
  "language_info": {
   "codemirror_mode": {
    "name": "ipython",
    "version": 3
   },
   "file_extension": ".py",
   "mimetype": "text/x-python",
   "name": "python",
   "nbconvert_exporter": "python",
   "pygments_lexer": "ipython3",
   "version": "3.8.5"
  }
 },
 "nbformat": 4,
 "nbformat_minor": 4
}
