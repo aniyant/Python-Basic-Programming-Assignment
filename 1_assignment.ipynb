{
 "cells": [
  {
   "cell_type": "markdown",
   "metadata": {},
   "source": [
    "1.) Write a Python program to print \"Hello Python\" ?"
   ]
  },
  {
   "cell_type": "code",
   "execution_count": 1,
   "metadata": {},
   "outputs": [
    {
     "name": "stdout",
     "output_type": "stream",
     "text": [
      "Hello Python\n"
     ]
    }
   ],
   "source": [
    "# program to print string\n",
    "greeting = \"Hello Python\"\n",
    "print(greeting)"
   ]
  },
  {
   "cell_type": "markdown",
   "metadata": {},
   "source": [
    "2.) Write a Python program to do arithmetical operations addition and division?"
   ]
  },
  {
   "cell_type": "code",
   "execution_count": null,
   "metadata": {},
   "outputs": [],
   "source": [
    "# Program to perform addition and division\n",
    "# add function\n",
    "def add(*args):\n",
    "    try:\n",
    "        sum(args)\n",
    "        return sum(args)\n",
    "    except Exception as e:\n",
    "        print(e)\n",
    "\n",
    "# Division function\n",
    "def division(numerator,denominator):\n",
    "    try:\n",
    "        output = numerator / denominator\n",
    "        return output\n",
    "    except Exception as e:\n",
    "        print(e)\n",
    "\n",
    "# checking function with giving values       \n",
    "print(\"add 2,5,6 =\",add(2,5,6))\n",
    "print(\"divide of 2/4 = \",division(2,4))"
   ]
  },
  {
   "cell_type": "markdown",
   "metadata": {},
   "source": [
    "3.) Write a python program to find the area of a triangle ?"
   ]
  },
  {
   "cell_type": "code",
   "execution_count": 4,
   "metadata": {},
   "outputs": [
    {
     "name": "stdin",
     "output_type": "stream",
     "text": [
      "Enter height of triangle =  10\n",
      "Enter base of triangle =  20\n"
     ]
    },
    {
     "name": "stdout",
     "output_type": "stream",
     "text": [
      "area of traingle with h = 10 and b = 20 is 100.0.\n"
     ]
    }
   ],
   "source": [
    "# Program to generate output of area of triangel\n",
    "\n",
    "# Taking input of height and base from user\n",
    "height = int(input(\"Enter height of triangle = \"))\n",
    "base = int(input(\"Enter base of triangle = \"))\n",
    "\n",
    "# Calculating area\n",
    "area = (height*base)/2\n",
    "\n",
    "# Printing area\n",
    "print(f\"area of traingle with h = {height} and b = {base} is {area}.\")"
   ]
  },
  {
   "cell_type": "markdown",
   "metadata": {},
   "source": [
    "4.) Write a Python program to swap two variables?"
   ]
  },
  {
   "cell_type": "code",
   "execution_count": 5,
   "metadata": {},
   "outputs": [
    {
     "name": "stdout",
     "output_type": "stream",
     "text": [
      "Before swapping variables\n",
      "\n",
      "var1 contains hello\n",
      "var2 containse python\n",
      "\n",
      "\n",
      "NOW AFTER SWAPPING Variables\n",
      "\n",
      "var1 contains python\n",
      "var2 containse hello\n"
     ]
    }
   ],
   "source": [
    "# program to swap variables\n",
    "# Defining two variable\n",
    "var1 = 'hello'\n",
    "var2 = \"python\"\n",
    "\n",
    "print(\"Before swapping variables\\n\")\n",
    "print(f\"var1 contains {var1}\")\n",
    "print(f'var2 containse {var2}\\n\\n')\n",
    "\n",
    "# here we are swapping var1 with value of var2 and vice verse\n",
    "var1,var2 = var2,var1\n",
    "\n",
    "print('NOW AFTER SWAPPING Variables\\n')\n",
    "print(f\"var1 contains {var1}\")\n",
    "print(f'var2 containse {var2}')\n"
   ]
  },
  {
   "cell_type": "markdown",
   "metadata": {},
   "source": [
    "5.) Write a Python program to generate a random number?"
   ]
  },
  {
   "cell_type": "code",
   "execution_count": 6,
   "metadata": {},
   "outputs": [
    {
     "name": "stdout",
     "output_type": "stream",
     "text": [
      "54\n"
     ]
    }
   ],
   "source": [
    "# Program to generate random numbers\n",
    "import random \n",
    "\n",
    "# randint function of random generate random number in given range\n",
    "t = random.randint(0,100)\n",
    "print(t)"
   ]
  }
 ],
 "metadata": {
  "kernelspec": {
   "display_name": "Python 3",
   "language": "python",
   "name": "python3"
  },
  "language_info": {
   "codemirror_mode": {
    "name": "ipython",
    "version": 3
   },
   "file_extension": ".py",
   "mimetype": "text/x-python",
   "name": "python",
   "nbconvert_exporter": "python",
   "pygments_lexer": "ipython3",
   "version": "3.8.5"
  }
 },
 "nbformat": 4,
 "nbformat_minor": 4
}
